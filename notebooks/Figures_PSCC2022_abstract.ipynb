{
 "cells": [
  {
   "cell_type": "code",
   "execution_count": null,
   "metadata": {},
   "outputs": [],
   "source": [
    "import os\n",
    "import sys\n",
    "import glob\n",
    "import pickle\n",
    "import numpy as np\n",
    "import matplotlib\n",
    "import matplotlib.pyplot as plt\n",
    "\n",
    "fontsize = 8\n",
    "lw = 0.75\n",
    "\n",
    "matplotlib.rc('font', **{'family': 'Times New Roman', 'size': fontsize})\n",
    "matplotlib.rc('axes', **{'linewidth': 0.75, 'labelsize': fontsize})\n",
    "matplotlib.rc('xtick', **{'labelsize': fontsize})\n",
    "matplotlib.rc('ytick', **{'labelsize': fontsize})\n",
    "matplotlib.rc('xtick.major', **{'width': lw, 'size':3})\n",
    "matplotlib.rc('ytick.major', **{'width': lw, 'size':3})\n",
    "matplotlib.rc('ytick.minor', **{'width': lw, 'size':1.5})\n",
    "\n",
    "%matplotlib inline\n",
    "\n",
    "if '..' not in sys.path:\n",
    "    sys.path.append('..')\n",
    "from dlml.utils import collect_experiments"
   ]
  },
  {
   "cell_type": "code",
   "execution_count": null,
   "metadata": {},
   "outputs": [],
   "source": [
    "def make_axes(rows, cols, x_offset, y_offset, x_space, y_space, squeeze=True):\n",
    "    w = (1 - np.sum(x_offset) - x_space * (cols - 1)) / cols\n",
    "    h = (1 - np.sum(y_offset) - y_space * (rows - 1)) / rows\n",
    "    \n",
    "    ax = [[plt.axes([x_offset[0] + (w + x_space) * j,\n",
    "                     y_offset[0] + (h + y_space) * i,\n",
    "                     w, h]) for j in range(cols)] for i in range(rows-1, -1, -1)]\n",
    "    \n",
    "    for row in ax:\n",
    "        for a in row:\n",
    "            for side in 'right','top':\n",
    "                a.spines[side].set_visible(False)\n",
    "\n",
    "    if squeeze:\n",
    "        if rows == 1 and cols == 1:\n",
    "            return ax[0][0]\n",
    "        if rows == 1:\n",
    "            return ax[0]\n",
    "        if cols == 1:\n",
    "            return [a[0] for a in ax]\n",
    "        \n",
    "    return ax"
   ]
  },
  {
   "cell_type": "markdown",
   "metadata": {},
   "source": [
    "### Figure for the PSCC-2022 abstract"
   ]
  },
  {
   "cell_type": "code",
   "execution_count": null,
   "metadata": {},
   "outputs": [],
   "source": [
    "area_ID = 1\n",
    "experiments = collect_experiments(area_ID, area_measure='energy', D=2, DZA=60)\n",
    "\n",
    "experiment_IDs = list(experiments.keys())\n",
    "experiment_ID = experiment_IDs[np.argmin([expt['loss'].min() for expt in experiments.values()])]\n",
    "MAPE = experiments[experiment_ID]['MAPE']\n",
    "loss = experiments[experiment_ID]['loss']\n",
    "val_loss = experiments[experiment_ID]['val_loss']\n",
    "batch_loss = experiments[experiment_ID]['batch_loss']\n",
    "tags = experiments[experiment_ID]['tags']\n",
    "print(f'The best experiment is {experiment_ID[:6]} (val_loss = {val_loss.min():.4f}, MAPE = {MAPE}%).')\n",
    "\n",
    "experiments_path = '../experiments/neural_network/'\n",
    "checkpoint_path = experiments_path + experiment_ID + '/checkpoints/'\n",
    "checkpoint_files = glob.glob(checkpoint_path + '*.h5')\n",
    "network_parameters = pickle.load(open(experiments_path + experiment_ID + '/parameters.pkl', 'rb'))\n",
    "test_results = pickle.load(open(experiments_path + experiment_ID + '/test_results.pkl', 'rb'))"
   ]
  },
  {
   "cell_type": "code",
   "execution_count": null,
   "metadata": {},
   "outputs": [],
   "source": [
    "n_epochs = len(loss)\n",
    "epochs = np.arange(n_epochs) + 1\n",
    "\n",
    "font = {'family' : 'Times New Roman',\n",
    "        'size'   : 8}\n",
    "matplotlib.rc('font', **font)\n",
    "\n",
    "fig,ax = plt.subplots(1, 2, figsize=(3.3, 1.8))\n",
    "ax[0].semilogy(epochs, val_loss, color=[.8,.8,.8], lw=1, label='Validation set')\n",
    "ax[0].semilogy(epochs, loss, 'k', lw=1, label='Training set')\n",
    "ax[0].legend(loc='upper right', fontsize=7)\n",
    "ax[0].set_xlabel('Epoch')\n",
    "ax[0].set_ylabel('MAE')\n",
    "ax[0].set_xticks(np.r_[0 : 650 : 150])\n",
    "y_test, y_prediction = test_results['y_test'], test_results['y_prediction']\n",
    "ax[1].plot([8,14.5], [8,14.5], lw=2, color=[.8,.8,.8])\n",
    "ax[1].plot(y_test, y_prediction, 'o', color=[.6,.6,.6], markerfacecolor='w', markersize=3, markeredgewidth=0.5)\n",
    "for x in np.unique(y_test):\n",
    "    idx, = np.where(y_test == x)\n",
    "    ymean, ystd = y_prediction[idx].mean(), y_prediction[idx].std()\n",
    "    ysem = ystd / np.sqrt(len(idx))\n",
    "    ax[1].plot(x + np.zeros(2), ymean + 3 * ystd * np.array([-1,1]), 'k', linewidth=1)\n",
    "    ax[1].plot(x, ymean, 'ko', markerfacecolor='w', markersize=3.75, markeredgewidth=1)\n",
    "ax[1].set_xlabel(r'Inertia [GW$\\cdot$s]')\n",
    "ax[1].set_ylabel(r'Predicted inertia [GW$\\cdot$s]')\n",
    "ax[1].set_xticks(np.r_[8:16])\n",
    "ax[1].set_yticks(np.r_[8:16])\n",
    "ax[1].text(8.5, 14.5, f'MAPE = {MAPE:.2f}%', fontsize=7)\n",
    "\n",
    "for a in ax:\n",
    "    for side in 'top','right':\n",
    "        a.spines[side].set_visible(False)\n",
    "\n",
    "fig.tight_layout(pad=0.1)\n",
    "fig.savefig(f'training_results_{experiment_ID[:6]}.pdf')"
   ]
  }
 ],
 "metadata": {
  "kernelspec": {
   "display_name": "Python 3",
   "language": "python",
   "name": "python3"
  },
  "language_info": {
   "codemirror_mode": {
    "name": "ipython",
    "version": 3
   },
   "file_extension": ".py",
   "mimetype": "text/x-python",
   "name": "python",
   "nbconvert_exporter": "python",
   "pygments_lexer": "ipython3",
   "version": "3.7.3"
  }
 },
 "nbformat": 4,
 "nbformat_minor": 4
}
