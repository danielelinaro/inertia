{
 "cells": [
  {
   "cell_type": "code",
   "execution_count": null,
   "id": "0e86e597",
   "metadata": {},
   "outputs": [],
   "source": [
    "import os\n",
    "# import re\n",
    "import sys\n",
    "import glob\n",
    "import pickle\n",
    "from scipy.fft import fft, fftfreq\n",
    "from scipy.signal import butter, filtfilt\n",
    "\n",
    "import numpy as np\n",
    "import matplotlib.pyplot as plt\n",
    "%matplotlib inline\n",
    "\n",
    "import tensorflow as tf\n",
    "from tensorflow import keras\n",
    "\n",
    "if '..' not in sys.path:\n",
    "    sys.path.append('..')\n",
    "from dlml.utils import collect_experiments\n",
    "from dlml.data import read_area_values, load_data_areas, load_data_slide\n",
    "from dlml.nn import predict"
   ]
  },
  {
   "cell_type": "markdown",
   "id": "6b36871b",
   "metadata": {},
   "source": [
    "#### Find the best experiment given a set of tags"
   ]
  },
  {
   "cell_type": "raw",
   "id": "7f123e00",
   "metadata": {},
   "source": [
    "area_ID = 1\n",
    "area_measure = 'momentum'\n",
    "stoch_load_bus_IDs = []\n",
    "rec_bus_IDs = [3]\n",
    "H_G1, D, DZA = None, None, None # 500, 2, 0\n",
    "additional_tags = ['ReLU_none', 'converted_from_PowerFactory', 'all_stoch_loads', 'data_subset']\n",
    "missing_tags = []\n",
    "use_FFT = True\n",
    "if use_FFT:\n",
    "    additional_tags.append('fft')\n",
    "else:\n",
    "    missing_tags.append('fft')\n",
    "# experiments = collect_experiments(area_ID, area_measure=area_measure, D=D, DZA=DZA, \\\n",
    "#                                   stoch_load_bus_IDs=stoch_load_bus_IDs, H_G1=H_G1, \\\n",
    "#                                   rec_bus_IDs=rec_bus_IDs, additional_tags=additional_tags, \\\n",
    "#                                   missing_tags=missing_tags, verbose=True)\n",
    "# experiment_IDs = list(experiments.keys())\n",
    "# experiment_ID = experiment_IDs[np.argmin([expt['val_loss'].min() for expt in experiments.values()])]\n",
    "# experiment_ID = experiment_IDs[np.argmin([expt['MAPE'] for expt in experiments.values()])]\n",
    "# MAPE = experiments[experiment_ID]['MAPE']\n",
    "# loss = experiments[experiment_ID]['loss']\n",
    "# val_loss = experiments[experiment_ID]['val_loss']\n",
    "# batch_loss = experiments[experiment_ID]['batch_loss']\n",
    "# tags = experiments[experiment_ID]['tags']\n",
    "# print(f'The best experiment is {experiment_ID[:6]} (val_loss = {val_loss.min():.4f}, MAPE = {MAPE:.4f}%).')"
   ]
  },
  {
   "cell_type": "code",
   "execution_count": null,
   "id": "aa62bafc",
   "metadata": {},
   "outputs": [],
   "source": [
    "# training on frequency data, 2 output values\n",
    "# experiment_ID = '9ea493c789b542bf979c51a6031f4044'\n",
    "# training on frequency data, 4 output values\n",
    "# experiment_ID = 'f6d9a03f1cfe450288e9cb86da94235f'\n",
    "# training on time data, 2 output values\n",
    "experiment_ID = '034a1edb0797475b985f0e1335dab383'\n",
    "# training on time data, 4 output values\n",
    "# experiment_ID = 'b346a89d384c4db2ba4058a2c83c4f12'"
   ]
  },
  {
   "cell_type": "markdown",
   "id": "50e0a7fe",
   "metadata": {},
   "source": [
    "#### Load the model"
   ]
  },
  {
   "cell_type": "code",
   "execution_count": null,
   "id": "81320651",
   "metadata": {},
   "outputs": [],
   "source": [
    "experiments_path = '../experiments/neural_network/'\n",
    "network_parameters = pickle.load(open(os.path.join(experiments_path, experiment_ID, 'parameters.pkl'), 'rb'))\n",
    "checkpoint_path = experiments_path + experiment_ID + '/checkpoints/'\n",
    "checkpoint_files = glob.glob(checkpoint_path + '*.h5')\n",
    "try:\n",
    "    epochs = [int(os.path.split(file)[-1].split('.')[1].split('-')[0]) for file in checkpoint_files]\n",
    "    best_checkpoint = checkpoint_files[epochs.index(np.argmin(val_loss) + 1)]\n",
    "except:\n",
    "    best_checkpoint = checkpoint_files[-1]\n",
    "model = keras.models.load_model(best_checkpoint)\n",
    "x_train_mean = network_parameters['x_train_mean']\n",
    "x_train_std  = network_parameters['x_train_std']\n",
    "x_train_min = network_parameters['x_train_min']\n",
    "x_train_max = network_parameters['x_train_max']\n",
    "var_names = network_parameters['var_names']\n",
    "print(f'Loaded network from {best_checkpoint}.')\n",
    "print(f'Variable names: {var_names}')"
   ]
  },
  {
   "cell_type": "markdown",
   "id": "d16e540f",
   "metadata": {},
   "source": [
    "#### Plot the model topology"
   ]
  },
  {
   "cell_type": "raw",
   "id": "fffafd0d",
   "metadata": {},
   "source": [
    "keras.utils.plot_model(model, show_shapes=False, dpi=96)"
   ]
  },
  {
   "cell_type": "code",
   "execution_count": null,
   "id": "da9a41a4",
   "metadata": {},
   "outputs": [],
   "source": [
    "model.summary()"
   ]
  },
  {
   "cell_type": "markdown",
   "id": "516f8316",
   "metadata": {},
   "source": [
    "#### Load the data set"
   ]
  },
  {
   "cell_type": "code",
   "execution_count": null,
   "id": "08887b58",
   "metadata": {},
   "outputs": [],
   "source": [
    "set_name = 'test'\n",
    "use_fft = network_parameters['use_fft'] if 'use_fft' in network_parameters else False\n",
    "if use_fft:\n",
    "    raise Exception('This notebook must be used on a network that uses time-domain inputs')\n",
    "data_dirs = []\n",
    "for area_ID,data_dir in zip(network_parameters['area_IDs'], network_parameters['data_dirs']):\n",
    "    data_dirs.append(data_dir.format(area_ID))\n",
    "data_dir = os.path.join('..', data_dirs[0])\n",
    "data_files = sorted(glob.glob(data_dir + os.path.sep + f'*_{set_name}_set.h5'))[:3]\n",
    "\n",
    "ret = load_data_areas({set_name: data_files}, network_parameters['var_names'],\n",
    "                        network_parameters['generators_areas_map'][:1],\n",
    "                        network_parameters['generators_Pnom'],\n",
    "                        network_parameters['area_measure'],\n",
    "                        trial_dur=network_parameters['trial_duration'],\n",
    "                        max_block_size=100,\n",
    "                        use_tf=False, add_omega_ref=True,\n",
    "                        use_fft=True)\n",
    "F = ret[0]\n",
    "Xf = [ret[1][set_name][i] for i in range(len(var_names))]\n",
    "\n",
    "ret = load_data_areas({set_name: data_files}, network_parameters['var_names'],\n",
    "                        network_parameters['generators_areas_map'][:1],\n",
    "                        network_parameters['generators_Pnom'],\n",
    "                        network_parameters['area_measure'],\n",
    "                        trial_dur=network_parameters['trial_duration'],\n",
    "                        max_block_size=100,\n",
    "                        use_tf=False, add_omega_ref=True,\n",
    "                        use_fft=use_fft)\n",
    "y = ret[2][set_name]\n",
    "X = [[(ret[1][set_name][i] - m) / s\n",
    "      for i,(m,s) in enumerate(zip(x_train_mean, x_train_std))]]\n",
    "t = ret[0]\n",
    "dt = np.diff(t[:2])[0]\n",
    "idx = [np.where(y == mom)[0] for mom in np.unique(y)]\n",
    "n_mom_values = len(idx)\n",
    "\n",
    "# load the same file(s) filtered in different bands\n",
    "bands = [[0.1, 0.4],\n",
    "         [0.4, 0.9],\n",
    "         [1, 2],\n",
    "         [3, 10],\n",
    "         [0.1, 2],\n",
    "         [0.05, 10]]\n",
    "N_bands = len(bands)\n",
    "btypes =  ['bp' for _ in range(N_bands)]\n",
    "filter_orders = [8 for _ in range(N_bands)]\n",
    "for band,btype,order in zip(bands, btypes, filter_orders):\n",
    "    if use_fft:\n",
    "        kwargs = {'Wn': band, 'btype': btype, 'filter_order': filter_order}\n",
    "    else:\n",
    "        kwargs = {}\n",
    "    ret = load_data_areas({set_name: data_files}, network_parameters['var_names'],\n",
    "                            network_parameters['generators_areas_map'][:1],\n",
    "                            network_parameters['generators_Pnom'],\n",
    "                            network_parameters['area_measure'],\n",
    "                            trial_dur=network_parameters['trial_duration'],\n",
    "                            max_block_size=100,\n",
    "                            use_tf=False, add_omega_ref=True,\n",
    "                            use_fft=use_fft, **kwargs)\n",
    "    if use_fft:\n",
    "        X.append([(ret[1][set_name][i] - m) / (M - m)\n",
    "                  for i,(m,M) in enumerate(zip(x_train_min, x_train_max))])\n",
    "    else:\n",
    "        b,a = butter(order//2, band, btype, fs=1/dt)\n",
    "        X.append([filtfilt(b, a, (ret[1][set_name][i] - m) / s)\n",
    "                  for i,(m,s) in enumerate(zip(x_train_mean, x_train_std))])"
   ]
  },
  {
   "cell_type": "markdown",
   "id": "1edd7e90",
   "metadata": {},
   "source": [
    "#### Read the exact values of momentum"
   ]
  },
  {
   "cell_type": "code",
   "execution_count": null,
   "id": "e884aa2b",
   "metadata": {},
   "outputs": [],
   "source": [
    "exact_momentum = []\n",
    "for data_file in data_files:\n",
    "    _,_,v,_ = read_area_values(data_file,\n",
    "                               network_parameters['generators_areas_map'],\n",
    "                               network_parameters['generators_Pnom'],\n",
    "                               'momentum')\n",
    "    exact_momentum.append(v[0])\n",
    "exact_momentum = np.array(exact_momentum)"
   ]
  },
  {
   "cell_type": "markdown",
   "id": "c5a4263c",
   "metadata": {},
   "source": [
    "#### Plot the spectra of the inputs"
   ]
  },
  {
   "cell_type": "code",
   "execution_count": null,
   "id": "b443280c",
   "metadata": {},
   "outputs": [],
   "source": [
    "cmap = plt.get_cmap('tab10', n_mom_values)\n",
    "fig,ax = plt.subplots(1, 2, figsize=(10, 4))\n",
    "\n",
    "for j,jdx in enumerate(idx):\n",
    "    mean = X[0][0][jdx].mean(axis=0)\n",
    "    stddev = X[0][0][jdx].std(axis=0)\n",
    "    ci = 1.96 * stddev / np.sqrt(jdx.size)\n",
    "    ax[0].fill_between(t, mean + ci, mean - ci, color=cmap(j))\n",
    "    mean = Xf[0][jdx].mean(axis=0)\n",
    "    stddev = Xf[0][jdx].std(axis=0)\n",
    "    ci = 1.96 * stddev / np.sqrt(jdx.size)\n",
    "    ylim = [0, np.max((mean + ci)[F > 0.1]) * 1.1]\n",
    "    ax[1].fill_between(F, mean + ci, mean - ci, color=cmap(j))\n",
    "\n",
    "for a in ax:\n",
    "    for side in 'right','top':\n",
    "        a.spines[side].set_visible(False)\n",
    "    a.grid(which='major', axis='both', ls=':', lw=0.5, color=[.6,.6,.6])\n",
    "ax[1].set_xscale('log')\n",
    "ax[0].set_xlabel('Time [min]')\n",
    "ax[0].set_ylabel(f'Normalized {var_names[0]}')\n",
    "ax[1].set_xlabel('Frequency [Hz]')\n",
    "ax[1].set_ylabel('FFT')\n",
    "ax[1].set_ylim(ylim)\n",
    "fig.tight_layout()"
   ]
  },
  {
   "cell_type": "markdown",
   "id": "ceabc3be",
   "metadata": {},
   "source": [
    "#### Plot one input trace filtered in all bands"
   ]
  },
  {
   "cell_type": "code",
   "execution_count": null,
   "id": "c231c409",
   "metadata": {},
   "outputs": [],
   "source": [
    "trace = 100\n",
    "fig,ax = plt.subplots(1, 1, figsize=(8, 5))\n",
    "cmap = plt.get_cmap('jet', N_bands+1)\n",
    "ax.plot(t, X[0][0][trace,:], 'k', lw=1, label='Broadband')\n",
    "for i in range(N_bands):\n",
    "    ax.plot(t, X[i+1][0][trace,:], color=cmap(i), lw=1,\n",
    "            label=f'[{bands[i][0]:g}-{bands[i][1]:g}] Hz')\n",
    "ax.legend(loc='best')\n",
    "for side in 'right','top':\n",
    "    ax.spines[side].set_visible(False)\n",
    "ax.set_xlabel('Time [s]')\n",
    "ax.set_ylabel(var_names[0])\n",
    "ax.grid(which='major', axis='both', ls=':', lw=0.5, color=[.6,.6,.6])\n",
    "fig.tight_layout()"
   ]
  },
  {
   "cell_type": "markdown",
   "id": "a2f46974",
   "metadata": {},
   "source": [
    "#### Predict the momentum using the model"
   ]
  },
  {
   "cell_type": "code",
   "execution_count": null,
   "id": "7a4d578a",
   "metadata": {},
   "outputs": [],
   "source": [
    "idx = [np.where(y == mom)[0] for mom in np.unique(y)]\n",
    "n_mom_values = len(idx)\n",
    "momentum = [[np.squeeze(model.predict(x[0][jdx])) for jdx in idx] for x in X]\n",
    "mean_momentum = [[m.mean() for m in mom] for mom in momentum]\n",
    "stddev_momentum = [[m.std() for m in mom] for mom in momentum]"
   ]
  },
  {
   "cell_type": "code",
   "execution_count": null,
   "id": "9aed1b5d",
   "metadata": {},
   "outputs": [],
   "source": [
    "print('Exact momentum: {:.3f} {} {:.3f}'.format(exact_momentum[0],\n",
    "                                                    ' ' * 10,\n",
    "                                                    exact_momentum[1]))\n",
    "print('     Broadband: {:.3f} +- {:.3f}   {:.3f} +- {:.3f}'.format(\n",
    "    mean_momentum[0][0], stddev_momentum[0][0],\n",
    "    mean_momentum[0][1], stddev_momentum[0][1],\n",
    "))\n",
    "for m,s,band in zip(mean_momentum[1:], stddev_momentum[1:], bands):\n",
    "    print('   [{:4.1f},{:4.1f}]: {:.3f} +- {:.3f}   {:.3f} +- {:.3f}'.format(\n",
    "        band[0], band[1],\n",
    "        m[0], s[0], m[1], s[1],\n",
    "    ))"
   ]
  },
  {
   "cell_type": "markdown",
   "id": "4f877e84",
   "metadata": {},
   "source": [
    "### Plot the predicted values of momentum"
   ]
  },
  {
   "cell_type": "code",
   "execution_count": null,
   "id": "76797ab2",
   "metadata": {},
   "outputs": [],
   "source": [
    "fig,ax = plt.subplots(1, 1, figsize=(8,5))\n",
    "ms = 8\n",
    "ax.plot(exact_momentum, exact_momentum, '--', color=[1,.5,.5], lw=10, label='Exact')\n",
    "for i,mom in enumerate(mean_momentum):\n",
    "    if i == 0:\n",
    "        ax.plot(exact_momentum, mom, 'ko-', lw=2, markersize=ms,\n",
    "                markerfacecolor='w', markeredgewidth=2, label='Broadband')\n",
    "    else:\n",
    "        ax.plot(exact_momentum, mom, 'o-', color=cmap(i), lw=2, markersize=ms,\n",
    "                markerfacecolor='w', markeredgewidth=2,\n",
    "                label=f'[{bands[i-1][0]:g}-{bands[i-1][1]:g}] Hz')\n",
    "for side in 'right','top':\n",
    "    ax.spines[side].set_visible(False)\n",
    "ax.legend(loc='best')\n",
    "ax.set_xlabel(r'Exact momentum [GW$\\cdot$s$^2$]')\n",
    "ax.set_ylabel(r'Estimated momentum [GW$\\cdot$s$^2$]')\n",
    "ax.grid(which='major', axis='both', lw=0.5, ls=':', color=[.6,.6,.6])\n",
    "fig.tight_layout()"
   ]
  }
 ],
 "metadata": {
  "kernelspec": {
   "display_name": "Python 3",
   "language": "python",
   "name": "python3"
  },
  "language_info": {
   "codemirror_mode": {
    "name": "ipython",
    "version": 3
   },
   "file_extension": ".py",
   "mimetype": "text/x-python",
   "name": "python",
   "nbconvert_exporter": "python",
   "pygments_lexer": "ipython3",
   "version": "3.7.3"
  }
 },
 "nbformat": 4,
 "nbformat_minor": 5
}
