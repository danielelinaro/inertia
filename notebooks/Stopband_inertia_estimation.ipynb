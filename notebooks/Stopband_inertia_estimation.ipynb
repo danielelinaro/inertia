{
 "cells": [
  {
   "cell_type": "code",
   "execution_count": null,
   "id": "0e86e597",
   "metadata": {},
   "outputs": [],
   "source": [
    "import os\n",
    "import sys\n",
    "import glob\n",
    "import pickle\n",
    "from scipy.fft import fft, fftfreq\n",
    "from scipy.signal import butter, filtfilt\n",
    "from sklearn.metrics import r2_score\n",
    "from tqdm import tqdm\n",
    "\n",
    "import numpy as np\n",
    "import matplotlib.pyplot as plt\n",
    "%matplotlib inline\n",
    "\n",
    "import tensorflow as tf\n",
    "from tensorflow import keras\n",
    "\n",
    "if '..' not in sys.path:\n",
    "    sys.path.append('..')\n",
    "from dlml.utils import collect_experiments\n",
    "from dlml.data import load_data_files, load_data_areas"
   ]
  },
  {
   "cell_type": "code",
   "execution_count": null,
   "id": "63e5e081",
   "metadata": {},
   "outputs": [],
   "source": [
    "def compute_score(X, y, dt, model, band=None, order=8, btype='bandstop'):\n",
    "    N_trials, N_samples = X.shape\n",
    "    if band is None:\n",
    "        Xfilt = X\n",
    "    else:\n",
    "        b,a = butter(order//2, band, btype, fs=1/dt)\n",
    "        Xfilt = filtfilt(b, a, X)\n",
    "    y_pred = model.predict(Xfilt)\n",
    "    return r2_score(y, y_pred), y_pred.squeeze(), Xfilt"
   ]
  },
  {
   "cell_type": "markdown",
   "id": "6b36871b",
   "metadata": {},
   "source": [
    "#### Find the best experiment given a set of tags"
   ]
  },
  {
   "cell_type": "raw",
   "id": "7f123e00",
   "metadata": {},
   "source": [
    "area_ID = 1\n",
    "area_measure = 'momentum'\n",
    "stoch_load_bus_IDs = []\n",
    "rec_bus_IDs = [3]\n",
    "H_G1, D, DZA = None, None, None # 500, 2, 0\n",
    "additional_tags = ['ReLU_none', 'converted_from_PowerFactory', 'all_stoch_loads', 'data_subset']\n",
    "missing_tags = []\n",
    "use_FFT = True\n",
    "if use_FFT:\n",
    "    additional_tags.append('fft')\n",
    "else:\n",
    "    missing_tags.append('fft')\n",
    "# experiments = collect_experiments(area_ID, area_measure=area_measure, D=D, DZA=DZA, \\\n",
    "#                                   stoch_load_bus_IDs=stoch_load_bus_IDs, H_G1=H_G1, \\\n",
    "#                                   rec_bus_IDs=rec_bus_IDs, additional_tags=additional_tags, \\\n",
    "#                                   missing_tags=missing_tags, verbose=True)\n",
    "# experiment_IDs = list(experiments.keys())\n",
    "# experiment_ID = experiment_IDs[np.argmin([expt['val_loss'].min() for expt in experiments.values()])]\n",
    "# experiment_ID = experiment_IDs[np.argmin([expt['MAPE'] for expt in experiments.values()])]\n",
    "# MAPE = experiments[experiment_ID]['MAPE']\n",
    "# loss = experiments[experiment_ID]['loss']\n",
    "# val_loss = experiments[experiment_ID]['val_loss']\n",
    "# batch_loss = experiments[experiment_ID]['batch_loss']\n",
    "# tags = experiments[experiment_ID]['tags']\n",
    "# print(f'The best experiment is {experiment_ID[:6]} (val_loss = {val_loss.min():.4f}, MAPE = {MAPE:.4f}%).')"
   ]
  },
  {
   "cell_type": "code",
   "execution_count": null,
   "id": "aa62bafc",
   "metadata": {},
   "outputs": [],
   "source": [
    "# training on frequency data, 2 output values\n",
    "# experiment_ID = '9ea493c789b542bf979c51a6031f4044'\n",
    "# training on frequency data, 4 output values\n",
    "# experiment_ID = 'f6d9a03f1cfe450288e9cb86da94235f'\n",
    "# training on time data, 2 output values\n",
    "# experiment_ID = '034a1edb0797475b985f0e1335dab383'\n",
    "# training on time data, 4 output values\n",
    "# experiment_ID = 'b346a89d384c4db2ba4058a2c83c4f12'\n",
    "# training on time data, 2 output values, 8 input values\n",
    "experiment_ID = '98475b819ecb4d569646d7e1467d7c9c'"
   ]
  },
  {
   "cell_type": "markdown",
   "id": "50e0a7fe",
   "metadata": {},
   "source": [
    "#### Load the model"
   ]
  },
  {
   "cell_type": "code",
   "execution_count": null,
   "id": "81320651",
   "metadata": {},
   "outputs": [],
   "source": [
    "experiments_path = '../experiments/neural_network/'\n",
    "network_parameters = pickle.load(open(os.path.join(experiments_path, experiment_ID, 'parameters.pkl'), 'rb'))\n",
    "checkpoint_path = experiments_path + experiment_ID + '/checkpoints/'\n",
    "checkpoint_files = glob.glob(checkpoint_path + '*.h5')\n",
    "try:\n",
    "    epochs = [int(os.path.split(file)[-1].split('.')[1].split('-')[0]) for file in checkpoint_files]\n",
    "    best_checkpoint = checkpoint_files[epochs.index(np.argmin(val_loss) + 1)]\n",
    "except:\n",
    "    best_checkpoint = checkpoint_files[-1]\n",
    "model = keras.models.load_model(best_checkpoint)\n",
    "x_train_mean = network_parameters['x_train_mean']\n",
    "x_train_std  = network_parameters['x_train_std']\n",
    "x_train_min = network_parameters['x_train_min']\n",
    "x_train_max = network_parameters['x_train_max']\n",
    "var_names = network_parameters['var_names']\n",
    "print(f'Loaded network from {best_checkpoint}.')\n",
    "print(f'Variable names: {var_names}')"
   ]
  },
  {
   "cell_type": "markdown",
   "id": "d16e540f",
   "metadata": {},
   "source": [
    "#### Plot the model topology"
   ]
  },
  {
   "cell_type": "raw",
   "id": "fffafd0d",
   "metadata": {},
   "source": [
    "keras.utils.plot_model(model, show_shapes=False, dpi=96)"
   ]
  },
  {
   "cell_type": "code",
   "execution_count": null,
   "id": "da9a41a4",
   "metadata": {},
   "outputs": [],
   "source": [
    "model.summary()"
   ]
  },
  {
   "cell_type": "markdown",
   "id": "516f8316",
   "metadata": {},
   "source": [
    "#### Load the data set"
   ]
  },
  {
   "cell_type": "code",
   "execution_count": null,
   "id": "bfd51809",
   "metadata": {},
   "outputs": [],
   "source": [
    "use_fft = network_parameters['use_fft'] if 'use_fft' in network_parameters else False\n",
    "if use_fft:\n",
    "    raise Exception('This notebook must be used on a network that uses time-domain inputs')\n",
    "\n",
    "\n",
    "if False:\n",
    "    base_folder = network_parameters['data_dirs'][0]\n",
    "    while '{}' in base_folder:\n",
    "        base_folder,_ = os.path.split(base_folder)\n",
    "    data_files = []\n",
    "    group_index = []\n",
    "    set_name = 'test'\n",
    "    for i,prefix in enumerate(('low','high')):\n",
    "        folder = os.path.join('..', base_folder, prefix + '_momentum_' + set_name)\n",
    "        files = sorted(glob.glob(folder + os.path.sep + '*.h5'))\n",
    "        group_index.append(np.arange(len(files)) + len(data_files))\n",
    "        data_files += files\n",
    "    ret = load_data_files(data_files,\n",
    "                          network_parameters['var_names'],\n",
    "                          network_parameters['generators_areas_map'][:1],\n",
    "                          network_parameters['generators_Pnom'],\n",
    "                          'momentum')\n",
    "    t = ret[0][:-1]\n",
    "    X_raw = ret[1][:, :, :-1]\n",
    "    X = np.zeros(X_raw.shape)\n",
    "    for i,(m,s) in enumerate(zip(x_train_mean, x_train_std)):\n",
    "        X[i,:,:] = (X_raw[i,:,:] - m) / s\n",
    "    y = ret[2]\n",
    "    X_raw = X_raw.squeeze()\n",
    "else:\n",
    "    set_name = 'test'\n",
    "    base_folder = '../' + network_parameters['data_dirs'][0].format(network_parameters['area_IDs'][0])\n",
    "    data_files = sorted(glob.glob(base_folder + f'/*{set_name}_set.h5'))\n",
    "    ret = load_data_areas({set_name: data_files}, network_parameters['var_names'],\n",
    "                          network_parameters['generators_areas_map'][:1],\n",
    "                          network_parameters['generators_Pnom'],\n",
    "                          network_parameters['area_measure'],\n",
    "                          trial_dur=network_parameters['trial_duration'],\n",
    "                          max_block_size=1000,\n",
    "                          use_tf=False, add_omega_ref=True,\n",
    "                          use_fft=False)\n",
    "    t = ret[0]\n",
    "    X = [(ret[1][set_name][i] - m) / s for i,(m,s) in enumerate(zip(x_train_mean, x_train_std))]\n",
    "    X = X[0]\n",
    "    y = ret[2][set_name]\n",
    "    group_index = [np.where(y < y.mean())[0], np.where(y > y.mean())[0]]\n",
    "\n",
    "n_mom_groups = len(group_index)\n",
    "X = X.squeeze()\n",
    "y = y.squeeze()\n",
    "dt = np.diff(t[:2])[0]\n",
    "N_samples = t.size\n",
    "Xf = fft(X)\n",
    "Xf = 2.0 / N_samples * np.abs(Xf[:, :N_samples//2])\n",
    "F = fftfreq(N_samples, dt)[:N_samples//2]"
   ]
  },
  {
   "cell_type": "markdown",
   "id": "c5a4263c",
   "metadata": {},
   "source": [
    "#### Plot the spectra of the inputs"
   ]
  },
  {
   "cell_type": "code",
   "execution_count": null,
   "id": "b443280c",
   "metadata": {},
   "outputs": [],
   "source": [
    "cmap = plt.get_cmap('Accent')\n",
    "fig,ax = plt.subplots(1, 2, figsize=(10, 4))\n",
    "\n",
    "ylim = [1e-2, 0]\n",
    "Xfm = np.zeros((len(group_index), F.size))\n",
    "Xfci = np.zeros((len(group_index), F.size))\n",
    "for i,idx in enumerate(group_index):\n",
    "    mean = X[idx].mean(axis=0)\n",
    "    stddev = X[idx].std(axis=0)\n",
    "    ci = 1.96 * stddev / np.sqrt(idx.size)\n",
    "    ax[0].fill_between(t, mean + ci, mean - ci, color=cmap(i))\n",
    "    Xfm[i] = Xf[idx].mean(axis=0)\n",
    "    Xfci[i] = 1.96 * Xf[idx].std(axis=0) / np.sqrt(idx.size)\n",
    "    m = np.max((Xfm[i,:] + Xfci[i,:])[F > 0.1]) * 1.1\n",
    "    if m > ylim[1]:\n",
    "        ylim = [1e-2, m]\n",
    "    ax[1].fill_between(F, 20 * np.log10(Xfm[i] + Xfci[i]), 20 * np.log10(Xfm[i] - Xfci[i]), color=cmap(i))\n",
    "for a in ax:\n",
    "    for side in 'right','top':\n",
    "        a.spines[side].set_visible(False)\n",
    "    a.grid(which='major', axis='both', ls=':', lw=0.5, color=[.6,.6,.6])\n",
    "ax[1].set_xscale('log')\n",
    "ax[0].set_xlabel('Time [min]')\n",
    "ax[0].set_ylabel(f'Normalized {var_names[0]}')\n",
    "ax[1].set_xlabel('Frequency [Hz]')\n",
    "ax[1].set_ylabel('FFT')\n",
    "ax[1].set_xlim([1e-2, 2.5])\n",
    "fig.tight_layout()"
   ]
  },
  {
   "cell_type": "raw",
   "metadata": {},
   "source": [
    "%matplotlib notebook\n",
    "n_levels = 10\n",
    "n_groups = 8\n",
    "cmap = plt.get_cmap('bwr', n_levels)\n",
    "for i,mom in enumerate(np.unique(y)):\n",
    "    idx, = np.where(y == mom)\n",
    "    Xfm = Xf[idx].mean(axis=0)\n",
    "    if i < n_groups // 2:\n",
    "        col = cmap(i)\n",
    "    else:\n",
    "        col = cmap(n_levels - 1 - (i - n_groups // 2))\n",
    "    plt.semilogx(F, 20 * np.log10(Xfm), color=col, lw=1)"
   ]
  },
  {
   "cell_type": "code",
   "execution_count": null,
   "id": "241338d0",
   "metadata": {},
   "outputs": [],
   "source": [
    "bands = [[0.02, 0.5], [0.5, 1], [1, 1.5], [1.5,3], [3,8], [8,19.9]]\n",
    "N_bands = len(bands)\n",
    "N_trials, N_samples = X.shape\n",
    "scores = np.zeros(N_bands+1)\n",
    "X_filt = np.zeros((N_bands+1, N_trials, N_samples))\n",
    "y_pred = np.zeros((N_bands+1, N_trials))\n",
    "scores[0], y_pred[0, :], X_filt[0, :, :] = compute_score(X, y, dt, model)\n",
    "for i in tqdm(range(N_bands)):\n",
    "    scores[i+1], y_pred[i+1, :], X_filt[i+1, :, :] = compute_score(X, y, dt, model, bands[i])\n",
    "bands[-1][1] = 20"
   ]
  },
  {
   "cell_type": "code",
   "execution_count": null,
   "metadata": {},
   "outputs": [],
   "source": [
    "np.savez_compressed(os.path.join(experiments_path, experiment_ID, 'stopband_momentum_estimation.npz'),\n",
    "                   F=F, Xf=Xf, y=y, y_pred=y_pred, scores=scores, bands=bands, group_index=group_index)"
   ]
  },
  {
   "cell_type": "code",
   "execution_count": null,
   "id": "b4d39c6a",
   "metadata": {},
   "outputs": [],
   "source": [
    "fig,ax = plt.subplots(2, 1, figsize=(7, 7))\n",
    "\n",
    "cmap2 = plt.get_cmap('tab10')\n",
    "y_m = [y[idx].mean() for idx in group_index]\n",
    "y_s = [y[idx].std() for idx in group_index]\n",
    "y_pred_m = np.array([[pred[jdx].mean() for jdx in group_index] for pred in y_pred])\n",
    "y_pred_s = np.array([[pred[jdx].std() for jdx in group_index] for pred in y_pred])\n",
    "ax[0].plot([y.min(), y.max()], [y.min(), y.max()], 'k--', lw=2)\n",
    "add_band = False\n",
    "last_band = N_bands + 1 if add_band else N_bands + 1\n",
    "for i in range(last_band):\n",
    "    if i == 0:\n",
    "        lbl = 'Broadband'\n",
    "    else:\n",
    "        lbl = f'[{bands[i-1][0]}-{bands[i-1][1]:g}] Hz'\n",
    "    ax[0].plot(y_m, y_pred_m[i], color=cmap2(i), lw=2, label=lbl)\n",
    "    for j in range(len(group_index)):\n",
    "        ax[0].plot(y_m[j] + np.zeros(2),\n",
    "                   y_pred_m[i,j] + y_pred_s[i,j] * np.array([-1,1]),\n",
    "                   color=cmap2(i), lw=2)\n",
    "        ax[0].plot(y_m[j] + y_s[j] * np.array([-1,1]),\n",
    "                   y_pred_m[i,j] + np.zeros(2),\n",
    "                   color=cmap2(i), lw=2)\n",
    "        ax[0].plot(y_m[j], y_pred_m[i,j], 'o', color=cmap2(i),\n",
    "                   markerfacecolor='w', markersize=6.5, markeredgewidth=2)\n",
    "for side in 'right','top':\n",
    "    ax[0].spines[side].set_visible(False)\n",
    "ax[0].legend(loc='upper left', bbox_to_anchor=[0.8,0.575], frameon=False)\n",
    "ax[0].set_xlabel(r'Exact momentum [GW$\\cdot$s$^2$]')\n",
    "ax[0].set_ylabel(r'Estimated momentum [GW$\\cdot$s$^2$]')\n",
    "ax[0].grid(which='major', axis='both', lw=0.5, ls=':', color=[.6,.6,.6])\n",
    "ax[0].set_xlim([0.149, 0.31])\n",
    "ax[0].set_ylim([0.13, 0.34])\n",
    "ax[0].set_xticks(np.r_[0.15 : 0.31 : 0.03])\n",
    "ax[0].set_yticks(np.r_[0.15 : 0.34 : 0.03])\n",
    "\n",
    "axr = ax[1].twinx()\n",
    "for i,(m,ci) in enumerate(zip(Xfm, Xfci)):\n",
    "    ax[1].fill_between(F, 20*np.log10(m + ci), 20*np.log10(m - ci), color=cmap(i),\n",
    "                       label=r'M = {:.3f} GW$\\cdot$s$^2$'.format(y[group_index[i]].mean()))\n",
    "ax[1].legend(loc='lower left', frameon=False, fontsize=8)\n",
    "axr.plot(ax[1].get_xlim(), scores[0] + np.zeros(2), '--', color=cmap2(0), lw=3)\n",
    "for i,band in enumerate(bands):\n",
    "    if i >= last_band-1:\n",
    "        break\n",
    "    axr.axvline(band[0], color=[.6,.6,.6], ls=':', lw=0.5)\n",
    "    axr.plot(band, scores[i+1] + np.zeros(2), color=cmap2(i+1), lw=2)\n",
    "ax[1].set_xlabel('Frequency [Hz]')\n",
    "ax[1].set_ylabel('Power [dB]')\n",
    "axr.set_ylim((-1.1, 1.1))\n",
    "axr.set_ylabel(r'R$^2$ score')\n",
    "ax[1].set_xscale('log')\n",
    "fig.tight_layout()\n",
    "if add_band:\n",
    "    fig.savefig(f'stopband_{experiment_ID}_{last_band}.pdf')\n",
    "else:\n",
    "    fig.savefig(f'stopband_{experiment_ID[:6]}.pdf')"
   ]
  },
  {
   "cell_type": "code",
   "execution_count": null,
   "metadata": {},
   "outputs": [],
   "source": []
  }
 ],
 "metadata": {
  "kernelspec": {
   "display_name": "Python 3 (ipykernel)",
   "language": "python",
   "name": "python3"
  },
  "language_info": {
   "codemirror_mode": {
    "name": "ipython",
    "version": 3
   },
   "file_extension": ".py",
   "mimetype": "text/x-python",
   "name": "python",
   "nbconvert_exporter": "python",
   "pygments_lexer": "ipython3",
   "version": "3.9.9"
  }
 },
 "nbformat": 4,
 "nbformat_minor": 5
}
