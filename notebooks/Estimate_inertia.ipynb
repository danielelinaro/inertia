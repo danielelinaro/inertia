{
 "cells": [
  {
   "cell_type": "code",
   "execution_count": null,
   "metadata": {},
   "outputs": [],
   "source": [
    "import os\n",
    "import sys\n",
    "import glob\n",
    "import pickle\n",
    "import tensorflow as tf\n",
    "import numpy as np\n",
    "import pandas as pd\n",
    "import matplotlib.pyplot as plt\n",
    "%matplotlib inline\n",
    "\n",
    "if '..' not in sys.path:\n",
    "    sys.path.append('..')\n",
    "from deep_utils import *"
   ]
  },
  {
   "cell_type": "markdown",
   "metadata": {},
   "source": [
    "#### Load the network and the best weights"
   ]
  },
  {
   "cell_type": "code",
   "execution_count": null,
   "metadata": {},
   "outputs": [],
   "source": [
    "networks_path = '../experiments/'\n",
    "\n",
    "# depth level = 1\n",
    "# loss function: MAPE\n",
    "# omega: COI\n",
    "# optim_run = '20201206-221201'\n",
    "\n",
    "# depth level = 1\n",
    "# loss function: MAE\n",
    "# omega: COI\n",
    "# optim_run = '20201206-221238'\n",
    "\n",
    "# depth level = 1\n",
    "# loss function: MAE\n",
    "# omega: G1\n",
    "optim_run = 'd7f30fef5806435897e97f27606fa30a'\n",
    "\n",
    "checkpoint_path = networks_path + optim_run + '/checkpoints/'\n",
    "checkpoint_files = glob.glob(checkpoint_path + '*.h5')\n",
    "network_parameters = pickle.load(open(networks_path + optim_run + '/parameters.pkl', 'rb'))\n",
    "val_loss = [float(file[:-3].split('-')[-1]) for file in checkpoint_files]\n",
    "best_checkpoint = checkpoint_files[np.argmin(val_loss)]\n",
    "best_model = tf.keras.models.load_model(best_checkpoint, compile=True)\n",
    "if os.path.isdir('../' + network_parameters['data_dir']):\n",
    "    data_dir = '../' + network_parameters['data_dir']\n",
    "else:\n",
    "    data_dir = '../data/IEEE14_D=0_DZA=0.36'\n",
    "print('Loaded network from {}.'.format(best_checkpoint))\n",
    "print('Data directory is {}.'.format(data_dir))"
   ]
  },
  {
   "cell_type": "markdown",
   "metadata": {},
   "source": [
    "#### We need mean and standard deviation of the training set to normalize the data"
   ]
  },
  {
   "cell_type": "code",
   "execution_count": null,
   "metadata": {},
   "outputs": [],
   "source": [
    "try:\n",
    "    x_train_mean = network_parameters['x_train_mean']\n",
    "    x_train_std  = network_parameters['x_train_std']\n",
    "    print('Loaded mean and std of training set from stored parameters.')\n",
    "except:\n",
    "    # Load the data used to train the network to compute the mean\n",
    "    # and standard deviation of the training set if this is not\n",
    "    # contained in the parameters file\n",
    "    print('Extracting mean and std of training set from data in {}.'.format(data_dir))\n",
    "    inertia = {'training': np.arange(2,11)}\n",
    "    _, x, y = load_data(data_dir, inertia)\n",
    "    x['train'] = x.pop('training')\n",
    "    y['train'] = y.pop('training')\n",
    "    x_train_mean = np.mean(x['train'])\n",
    "    x_train_std = np.std(x['train'])"
   ]
  },
  {
   "cell_type": "code",
   "execution_count": null,
   "metadata": {},
   "outputs": [],
   "source": [
    "best_model.summary()"
   ]
  },
  {
   "cell_type": "markdown",
   "metadata": {},
   "source": [
    "#### A couple of functions used in the following"
   ]
  },
  {
   "cell_type": "code",
   "execution_count": null,
   "metadata": {},
   "outputs": [],
   "source": [
    "def load_data(data_files, var_name='omegacoi', window_dur = 60, window_step = 10, verbose=False):\n",
    "    \n",
    "    data = [np.load(data_file, allow_pickle=True) for data_file in data_files]\n",
    "    time = [data[0]['time']]\n",
    "    for i in range(1,len(data)):\n",
    "        time.append(data[i]['time'] + data[i-1]['time'][-1])\n",
    "    time = np.concatenate(time)\n",
    "    N_samples = time.size\n",
    "    omega = np.concatenate([entry[var_name] for entry in data])\n",
    "    omega_normalized = (omega - x_train_mean) / x_train_std\n",
    "\n",
    "    try:\n",
    "        simulation_parameters = [d['parameters'].item() for d in data]\n",
    "    except:\n",
    "        simulation_parameters = [{'frand': 10} for _ in range(len(data_files))]\n",
    "\n",
    "    dt = 1 / simulation_parameters[0]['frand']\n",
    "    window_size = int(window_dur / dt)\n",
    "    if verbose:\n",
    "        print('Window size: {:d} samples'.format(window_size))\n",
    "\n",
    "    omega_sliding, indexes = slide_window(omega_normalized, window_size, window_step=window_step)\n",
    "    if verbose:\n",
    "        print('Number of trials: {:d}'.format(omega_sliding.shape[0]))\n",
    "    \n",
    "    return time, omega, omega_sliding, indexes, simulation_parameters\n",
    "\n",
    "\n",
    "def predict(omega_sliding, model, window_step, dt, rolling_length=50):\n",
    "    x = tf.constant(omega_sliding, dtype=tf.float32)\n",
    "    y = np.squeeze(model.predict(x))\n",
    "    H = pd.DataFrame(data = {'inertia': y}).rolling(rolling_length).mean().to_numpy()\n",
    "    time = np.arange(H.size) * window_step * dt\n",
    "    return time, H, y"
   ]
  },
  {
   "cell_type": "markdown",
   "metadata": {},
   "source": [
    "### First example\n",
    "1. H steps **instantaneously** from 3.5 to 8.5\n",
    "1. **omega of the center of inertia** used for the estimation\n",
    "1. two simulations joined together (i.e., **no transient** during the step)"
   ]
  },
  {
   "cell_type": "code",
   "execution_count": null,
   "metadata": {},
   "outputs": [],
   "source": [
    "H_values = [3.5, 8.5]\n",
    "data_file_fmt = data_dir + '/ieee14_H={}.npz'\n",
    "data_files = [data_file_fmt.format(h) for h in H_values]\n",
    "data = [np.load(data_file, allow_pickle=True) for data_file in data_files]"
   ]
  },
  {
   "cell_type": "code",
   "execution_count": null,
   "metadata": {},
   "outputs": [],
   "source": [
    "var_names = ('omegacoi', 'omega01', 'omega02', \\\n",
    "             'G3:omega', 'G6:omega', 'G8:omega')\n",
    "n_vars = len(var_names)\n",
    "col = 'kr'\n",
    "fig,ax = plt.subplots(n_vars, 2, figsize=(10, 2.5*n_vars))\n",
    "align = ['center', 'edge']\n",
    "n_bins = 25\n",
    "for i,var_name in enumerate(var_names):\n",
    "    for j,d in enumerate(data):\n",
    "        t = d['time']\n",
    "        x = d[var_name]\n",
    "        idx = t < 120\n",
    "        x_norm = (x - x_train_mean) / x_train_std\n",
    "        n,edges = np.histogram(x_norm, bins=n_bins, range=[-4,4], density=True)\n",
    "        ax[i,0].plot(t[idx], x[idx], color=col[j], linewidth=1)\n",
    "        ax[i,1].bar(edges[:-1], n, width=np.diff(edges)[0] / 2, align=align[j],\n",
    "                    color=col[j], linewidth=2, edgecolor=col[j], alpha=0.5)\n",
    "for i in range(ax.shape[0]):\n",
    "    ax[i,0].set_ylabel(r'$\\omega_{{{}}}$'.format(var_names[i].replace('omega','').replace(':','').replace('0','G')))\n",
    "    ax[i,1].set_ylabel('Fraction')\n",
    "ax[-1,0].set_xlabel('Time [s]')\n",
    "ax[-1,1].set_xlabel(r'Normalized $\\omega$')\n",
    "fig.tight_layout()"
   ]
  },
  {
   "cell_type": "code",
   "execution_count": null,
   "metadata": {},
   "outputs": [],
   "source": [
    "var_names = ('omegacoi', 'omega01', 'omega02', \\\n",
    "             'G3:omega', 'G6:omega', 'G8:omega')\n",
    "real_inertia_values = {\n",
    "    'omegacoi': H_values,\n",
    "    'omega01': H_values,\n",
    "    'omega02': 13.08 / 2 + np.zeros(2),\n",
    "    'G3:omega': 13.08 / 2 + np.zeros(2),\n",
    "    'G6:omega': 10.12 / 2 + np.zeros(2),\n",
    "    'G8:omega': 10.12 / 2 + np.zeros(2)\n",
    "}\n",
    "window_dur = 60\n",
    "window_step = 30\n",
    "\n",
    "fig,ax = plt.subplots(3, 2, figsize=(10,10), sharex=True, sharey=True)\n",
    "for n,var_name in enumerate(var_names):\n",
    "    t, _, omega_sliding, indexes, sim_pars = load_data(data_files, var_name, window_dur, window_step)\n",
    "    dt = np.diff(t[:2])[0]\n",
    "    time, H, _ = predict(omega_sliding, best_model, window_step, dt)\n",
    "    i = n // ax.shape[1]\n",
    "    j = n % ax.shape[1]\n",
    "    ax[i,j].plot(time[[0,int(time.size/2)]], \\\n",
    "                 real_inertia_values[var_name][0] + np.zeros(2), \\\n",
    "                 'r--', lw=2, label='Exact')\n",
    "    ax[i,j].plot(time[[int(time.size/2),-1]], \\\n",
    "                 real_inertia_values[var_name][1] + np.zeros(2), \\\n",
    "                 'r--', lw=2)\n",
    "    ax[i,j].plot(time, H, 'k', lw=1, label='Estimated')\n",
    "    ax[i,j].set_title(var_name.replace('omega','').replace(':','').replace('0','G').upper())\n",
    "\n",
    "for i in range(ax.shape[1]):\n",
    "    ax[-1,i].set_xlabel('Time [s]')\n",
    "for i in range(ax.shape[0]):\n",
    "    ax[i,0].set_ylabel(r'Inertia')\n",
    "ax[0,0].set_ylim([0,11])\n",
    "ax[0,0].legend(loc='lower right')\n",
    "fig.tight_layout();"
   ]
  },
  {
   "cell_type": "markdown",
   "metadata": {},
   "source": [
    "### Second example\n",
    "1. H steps **instantaneously** from 3.5 to 8.5\n",
    "1. **omega of generator 1** used for the estimation\n",
    "1. two simulations joined together (i.e., **no transient** during the step)"
   ]
  },
  {
   "cell_type": "raw",
   "metadata": {},
   "source": [
    "data_file = '../pan/ieee14_H={:.1f}.npz'\n",
    "data_files = [data_file.format(h) for h in [3.5,8.5]]\n",
    "\n",
    "var_name = 'omega01'\n",
    "window_dur = 60\n",
    "window_step = 10\n",
    "\n",
    "t, _, omega_sliding, indexes, sim_pars = load_data(data_files, var_name, window_dur, window_step)\n",
    "dt = np.diff(t[:2])[0]\n",
    "time, H, _ = predict(omega_sliding, best_model, window_step, dt)\n",
    "\n",
    "fig,ax = plt.subplots(1, 1, figsize=(8,5))\n",
    "ax.plot(time[[0,int(time.size/2)]], sim_pars['H'] + np.zeros(2), 'r--', lw=2, label='Exact')\n",
    "ax.plot(time[[int(time.size/2),-1]], sim_pars['H'] + 5 + np.zeros(2), 'r--', lw=2)\n",
    "ax.plot(time, H, 'k', lw=1, label='Estimated')\n",
    "ax.legend(loc='best')\n",
    "ax.set_xlabel('Time [s]')\n",
    "ax.set_ylabel(r'Inertia');"
   ]
  },
  {
   "cell_type": "raw",
   "metadata": {},
   "source": [
    "data = np.load(data_files[0])\n",
    "time      = data['time']\n",
    "omega_G1  = data['omega01']\n",
    "omega_coi = data['omegacoi']\n",
    "idx = time < 200\n",
    "fig,(ax1,ax2) = plt.subplots(2, 1, figsize=(8,8))\n",
    "ax1.plot(time[idx], omega_coi[idx], 'k', lw=2, label='COI')\n",
    "ax1.plot(time[idx], omega_G1[idx], 'r', lw=1, label='G1')\n",
    "ax1.set_ylabel(r'$\\omega [\\mathrm{s}^{-1}]$')\n",
    "ax1.legend(loc='best')\n",
    "\n",
    "ax2.plot(time[idx], (omega_G1[idx] - omega_coi[idx]) / omega_G1[idx], \\\n",
    "         'k', lw=2, label='COI')\n",
    "ax1.set_xlabel('Time [s]')\n",
    "ax2.set_ylabel(r'$(\\omega_{G1} - \\omega_{COI}) / \\omega_{G1}$')\n",
    "fig.tight_layout()"
   ]
  },
  {
   "cell_type": "markdown",
   "metadata": {},
   "source": [
    "### Third example\n",
    "1. H steps **gradually** from 3.5 to 6.5 in 100 seconds (from t = 3550s to t=3650s)\n",
    "1. **omega of generator 1** used for the estimation"
   ]
  },
  {
   "cell_type": "raw",
   "metadata": {},
   "source": [
    "data_files = ['../pan/ieee14_H=3.5-6.5_ramp.npz']\n",
    "\n",
    "var_name = 'omega01'\n",
    "window_dur = 60\n",
    "window_step = 10\n",
    "\n",
    "t, omega, omega_sliding, indexes, sim_pars = load_data(data_files, var_name, window_dur, window_step)\n",
    "dt = np.diff(t[:2])[0]\n",
    "time, H, _ = predict(omega_sliding, best_model, window_step, dt)\n",
    "\n",
    "### real value of inertia\n",
    "H_min = 3.5\n",
    "H_max = 6.5\n",
    "H_ref = H_min + np.zeros(time.shape)\n",
    "idx, = np.where((time > 3550) & (time <= 3650))\n",
    "H_ref[idx] = np.linspace(H_min, H_max, idx.size)\n",
    "H_ref[time > 3650] = H_max\n",
    "\n",
    "fig = plt.figure(constrained_layout=True, figsize=(12,8))\n",
    "gs = fig.add_gridspec(3, 3)\n",
    "ax1 = fig.add_subplot(gs[0,:])\n",
    "ax21 = fig.add_subplot(gs[1,0])\n",
    "ax22 = fig.add_subplot(gs[1,1])\n",
    "ax23 = fig.add_subplot(gs[1,2])\n",
    "ax3 = fig.add_subplot(gs[2,:])\n",
    "\n",
    "ax1.plot(t, omega, 'k', lw=1)\n",
    "ax1.set_ylabel(r'$\\omega_1 [\\mathrm{s}^{-1}]$')\n",
    "\n",
    "idx = (t > 1000) & (t < 1300)\n",
    "ax21.plot(t[idx], omega[idx], 'k', lw=1)\n",
    "idx = (t > 3540) & (t < 3660)\n",
    "ax22.plot(t[idx], omega[idx], 'k', lw=1)\n",
    "idx = (t > 6000) & (t < 6300)\n",
    "ax23.plot(t[idx], omega[idx], 'k', lw=1)\n",
    "ax21.set_ylabel(r'$\\omega_1 [\\mathrm{s}^{-1}]$')\n",
    "\n",
    "ax3.plot(time, H_ref, 'r--', lw=2, label='Exact')\n",
    "ax3.plot(time, H, 'k', lw=1, label='Estimated')\n",
    "ax3.legend(loc='best')\n",
    "ax3.set_xlabel('Time [s]')\n",
    "ax3.set_ylabel(r'Inertia');\n"
   ]
  },
  {
   "cell_type": "markdown",
   "metadata": {},
   "source": [
    "#### TODO\n",
    "1. D=2, DZA=1: damping, super-wide dead-band\n",
    "1. D=2, DZA=36e-3/60: damping, realistic dead-band\n",
    "1. D=0, DZA=0.36/60: no damping, wide dead-band"
   ]
  },
  {
   "cell_type": "code",
   "execution_count": null,
   "metadata": {},
   "outputs": [],
   "source": []
  }
 ],
 "metadata": {
  "kernelspec": {
   "display_name": "Python 3",
   "language": "python",
   "name": "python3"
  },
  "language_info": {
   "codemirror_mode": {
    "name": "ipython",
    "version": 3
   },
   "file_extension": ".py",
   "mimetype": "text/x-python",
   "name": "python",
   "nbconvert_exporter": "python",
   "pygments_lexer": "ipython3",
   "version": "3.6.9"
  }
 },
 "nbformat": 4,
 "nbformat_minor": 4
}
