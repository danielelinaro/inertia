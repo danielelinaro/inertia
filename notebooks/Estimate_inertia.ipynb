{
 "cells": [
  {
   "cell_type": "code",
   "execution_count": 1,
   "metadata": {},
   "outputs": [],
   "source": [
    "import sys\n",
    "import glob\n",
    "import pickle\n",
    "import tensorflow as tf\n",
    "import numpy as np\n",
    "import pandas as pd\n",
    "import matplotlib.pyplot as plt\n",
    "%matplotlib inline\n",
    "\n",
    "if '..' not in sys.path:\n",
    "    sys.path.append('..')\n",
    "from deep_utils import *"
   ]
  },
  {
   "cell_type": "markdown",
   "metadata": {},
   "source": [
    "#### Load the network and the best weights"
   ]
  },
  {
   "cell_type": "code",
   "execution_count": 2,
   "metadata": {},
   "outputs": [
    {
     "name": "stdout",
     "output_type": "stream",
     "text": [
      "Loaded network from ../trained_networks/20201206-221238/checkpoints/weights.1610-0.40.h5.\n"
     ]
    }
   ],
   "source": [
    "networks_path = '../trained_networks/'\n",
    "# depth level = 1, loss function: MAPE\n",
    "# optim_run = '20201206-221201'\n",
    "# depth level = 1, loss function: MAE\n",
    "optim_run = '20201206-221238'\n",
    "# depth level = 2, loss function: MAPE\n",
    "# optim_run = '20201207-154625'\n",
    "# depth level = 2, loss function: MAE\n",
    "# optim_run = '20201207-154851'\n",
    "checkpoint_path = networks_path + optim_run + '/checkpoints/'\n",
    "checkpoint_files = glob.glob(checkpoint_path + '*.h5')\n",
    "network_parameters = pickle.load(open(networks_path + optim_run + '/parameters.pkl', 'rb'))\n",
    "val_loss = [float(file[:-3].split('-')[-1]) for file in checkpoint_files]\n",
    "best_checkpoint = checkpoint_files[np.argmin(val_loss)]\n",
    "best_model = tf.keras.models.load_model(best_checkpoint, compile=True)\n",
    "print('Loaded network from {}.'.format(best_checkpoint))"
   ]
  },
  {
   "cell_type": "markdown",
   "metadata": {},
   "source": [
    "#### We need mean and standard deviation of the training set to normalize the data"
   ]
  },
  {
   "cell_type": "code",
   "execution_count": 3,
   "metadata": {},
   "outputs": [],
   "source": [
    "try:\n",
    "    x_train_mean = network_parameters['x_train_mean']\n",
    "    x_train_std  = network_parameters['x_train_std']\n",
    "except:\n",
    "    # Load the data used to train the network to compute the mean\n",
    "    # and standard deviation of the training set if this is not\n",
    "    # contained in the parameters file\n",
    "    data_folder = '../pan/npz_files'\n",
    "    inertia = {'training': np.arange(2,11)}\n",
    "    _, x, y = load_data(data_folder, inertia)\n",
    "    x['train'] = x.pop('training')\n",
    "    y['train'] = y.pop('training')\n",
    "    x_train_mean = np.mean(x['train'])\n",
    "    x_train_std = np.std(x['train'])"
   ]
  },
  {
   "cell_type": "code",
   "execution_count": 4,
   "metadata": {},
   "outputs": [
    {
     "name": "stdout",
     "output_type": "stream",
     "text": [
      "Model: \"sequential\"\n",
      "_________________________________________________________________\n",
      "Layer (type)                 Output Shape              Param #   \n",
      "=================================================================\n",
      "reshape (Reshape)            (None, 600, 1)            0         \n",
      "_________________________________________________________________\n",
      "conv1d (Conv1D)              (None, 596, 16)           96        \n",
      "_________________________________________________________________\n",
      "max_pooling1d (MaxPooling1D) (None, 149, 16)           0         \n",
      "_________________________________________________________________\n",
      "re_lu (ReLU)                 (None, 149, 16)           0         \n",
      "_________________________________________________________________\n",
      "conv1d_1 (Conv1D)            (None, 145, 32)           2592      \n",
      "_________________________________________________________________\n",
      "max_pooling1d_1 (MaxPooling1 (None, 36, 32)            0         \n",
      "_________________________________________________________________\n",
      "re_lu_1 (ReLU)               (None, 36, 32)            0         \n",
      "_________________________________________________________________\n",
      "conv1d_2 (Conv1D)            (None, 32, 64)            10304     \n",
      "_________________________________________________________________\n",
      "max_pooling1d_2 (MaxPooling1 (None, 8, 64)             0         \n",
      "_________________________________________________________________\n",
      "re_lu_2 (ReLU)               (None, 8, 64)             0         \n",
      "_________________________________________________________________\n",
      "flatten (Flatten)            (None, 512)               0         \n",
      "_________________________________________________________________\n",
      "dense (Dense)                (None, 64)                32832     \n",
      "_________________________________________________________________\n",
      "dense_1 (Dense)              (None, 1)                 65        \n",
      "=================================================================\n",
      "Total params: 45,889\n",
      "Trainable params: 45,889\n",
      "Non-trainable params: 0\n",
      "_________________________________________________________________\n"
     ]
    }
   ],
   "source": [
    "best_model.summary()"
   ]
  },
  {
   "cell_type": "markdown",
   "metadata": {},
   "source": [
    "#### Load the new data"
   ]
  },
  {
   "cell_type": "code",
   "execution_count": 5,
   "metadata": {},
   "outputs": [
    {
     "name": "stdout",
     "output_type": "stream",
     "text": [
      "Window size: 600 samples\n",
      "Number of trials: 7140\n"
     ]
    }
   ],
   "source": [
    "data_file = '../pan/ieee14_H={:.1f}.npz'\n",
    "data = [np.load(data_file.format(h), allow_pickle=True) for h in [3.5,8.5]]\n",
    "\n",
    "time = [data[0]['time']]\n",
    "for i in range(1,len(data)):\n",
    "    time.append(data[i]['time'] + data[i-1]['time'][-1])\n",
    "time = np.concatenate(time)\n",
    "# time = data['time']\n",
    "N_samples = time.size\n",
    "omega_coi = (np.concatenate([entry['omega_coi'] for entry in data]) - x_train_mean) / x_train_std\n",
    "\n",
    "simulation_parameters = data[0]['parameters'].item()\n",
    "dt = 1 / simulation_parameters['frand']\n",
    "window_dur = 60 # [s]\n",
    "window_size = int(window_dur / dt)\n",
    "window_step = 10\n",
    "print('Window size: {:d} samples'.format(window_size))\n",
    "\n",
    "omega_coi_sliding, indexes = slide_window(omega_coi, window_size, window_step=window_step)\n",
    "print('Number of trials: {:d}'.format(omega_coi_sliding.shape[0]))"
   ]
  },
  {
   "cell_type": "code",
   "execution_count": 6,
   "metadata": {},
   "outputs": [],
   "source": [
    "x = tf.constant(omega_coi_sliding, dtype=tf.float32)\n",
    "y = np.squeeze(best_model.predict(x))\n",
    "H = pd.DataFrame(data = {'inertia': y}).rolling(50).mean().to_numpy()\n",
    "time = np.arange(H.size) * window_step * dt"
   ]
  },
  {
   "cell_type": "code",
   "execution_count": 7,
   "metadata": {},
   "outputs": [
    {
     "data": {
      "image/png": "[encoded data removed]",
      "text/plain": [
       "<Figure size 576x360 with 1 Axes>"
      ]
     },
     "metadata": {
      "needs_background": "light"
     },
     "output_type": "display_data"
    }
   ],
   "source": [
    "fig,ax = plt.subplots(1, 1, figsize=(8,5))\n",
    "ax.plot(time[[0,int(time.size/2)]], simulation_parameters['H'] + np.zeros(2), 'r--', label='Exact')\n",
    "ax.plot(time[[int(time.size/2),-1]], simulation_parameters['H'] + 5 + np.zeros(2), 'r--')\n",
    "ax.plot(time, H, 'k', lw=1, label='Estimated')\n",
    "# ax.set_ylim([0,10])\n",
    "ax.legend(loc='best')\n",
    "ax.set_xlabel('Time [s]')\n",
    "ax.set_ylabel(r'Inertia [$\\mathrm{s}^{-1}$]');"
   ]
  }
 ],
 "metadata": {
  "kernelspec": {
   "display_name": "Python 3",
   "language": "python",
   "name": "python3"
  },
  "language_info": {
   "codemirror_mode": {
    "name": "ipython",
    "version": 3
   },
   "file_extension": ".py",
   "mimetype": "text/x-python",
   "name": "python",
   "nbconvert_exporter": "python",
   "pygments_lexer": "ipython3",
   "version": "3.6.9"
  }
 },
 "nbformat": 4,
 "nbformat_minor": 4
}
