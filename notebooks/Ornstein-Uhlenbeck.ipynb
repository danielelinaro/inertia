{
 "cells": [
  {
   "cell_type": "code",
   "execution_count": null,
   "metadata": {},
   "outputs": [],
   "source": [
    "import numpy as np\n",
    "from numpy.random import RandomState, SeedSequence, MT19937\n",
    "import matplotlib.pyplot as plt\n",
    "\n",
    "%matplotlib inline"
   ]
  },
  {
   "cell_type": "code",
   "execution_count": null,
   "metadata": {},
   "outputs": [],
   "source": [
    "def OU_1(dt, alpha, mu, c, N, random_state = None):\n",
    "    coeff = np.array([alpha * mu * dt, 1 / (1 + alpha * dt)])\n",
    "    if random_state is not None:\n",
    "        rnd = c * np.sqrt(dt) * random_state.normal(size=N)\n",
    "    else:\n",
    "        rnd = c * np.sqrt(dt) * np.random.normal(size=N)\n",
    "    ou = np.zeros(N)\n",
    "    for i in range(N-1):\n",
    "        ou[i+1] = (ou[i] + coeff[0] + rnd[i]) * coeff[1]\n",
    "    return ou"
   ]
  },
  {
   "cell_type": "code",
   "execution_count": null,
   "metadata": {},
   "outputs": [],
   "source": [
    "def OU_2(dt, mean, stddev, tau, N, random_state = None):\n",
    "    if random_state is not None:\n",
    "        rnd = random_state.normal(size=N)\n",
    "    else:\n",
    "        rnd = np.random.normal(size=N)\n",
    "    const = 2 * stddev**2 / tau\n",
    "    mu = np.exp(-dt / tau)\n",
    "    coeff = np.sqrt(const * tau / 2 * (1 - mu ** 2))\n",
    "    ou = np.zeros(N)\n",
    "    for i in range(N-1):\n",
    "        ou[i+1] = mean + mu * (ou[i] - mean) + coeff * rnd[i]\n",
    "    return ou"
   ]
  },
  {
   "cell_type": "code",
   "execution_count": null,
   "metadata": {},
   "outputs": [],
   "source": [
    "def OU_TH(dt, alpha, mu, c, N, random_state = None):\n",
    "    t = np.arange(N) * dt\n",
    "    ex = np.exp(-alpha * t)\n",
    "    if random_state is not None:\n",
    "        rnd = random_state.normal(size=N-1)\n",
    "    else:\n",
    "        rnd = np.random.normal(size=N-1)\n",
    "    ou0 = 0\n",
    "    tmp = np.cumsum(np.r_[0, np.sqrt(np.diff(np.exp(2 * alpha * t) - 1)) * rnd])\n",
    "    ou = ou0 * ex + mu * (1 - ex) + c * ex * tmp / np.sqrt(2 * alpha);\n",
    "    return ou"
   ]
  },
  {
   "cell_type": "code",
   "execution_count": null,
   "metadata": {},
   "outputs": [],
   "source": [
    "def OU_SDE(dt, alpha, mu, c, N, random_state = None):\n",
    "    if random_state is not None:\n",
    "        rnd = c * np.sqrt(dt) * random_state.normal(size=N-1)\n",
    "    else:\n",
    "        rnd = c * np.sqrt(dt) * np.random.normal(size=N-1)\n",
    "    ou = np.zeros(N)\n",
    "    for i in range(N-1):\n",
    "        ou[i+1] = ou[i] + alpha * (mu - ou[i]) * dt + rnd[i];\n",
    "    return ou"
   ]
  },
  {
   "cell_type": "code",
   "execution_count": null,
   "metadata": {},
   "outputs": [],
   "source": [
    "dt = 0.01\n",
    "tend = 5\n",
    "t = np.r_[0 : tend : dt]\n",
    "N = t.size\n",
    "seed = 5061983\n",
    "alpha = 0.5\n",
    "mu = 0\n",
    "c = 0.5 * 3.22"
   ]
  },
  {
   "cell_type": "code",
   "execution_count": null,
   "metadata": {},
   "outputs": [],
   "source": [
    "N_trials = 10000\n",
    "rs = RandomState(MT19937(SeedSequence(seed)))\n",
    "seeds = rs.randint(low=0, high=100000, size=N_trials)"
   ]
  },
  {
   "cell_type": "code",
   "execution_count": null,
   "metadata": {},
   "outputs": [],
   "source": [
    "ou_1 = np.array([OU_1(dt, alpha, mu, c, N, RandomState(MT19937(SeedSequence(seed)))) for seed in seeds])"
   ]
  },
  {
   "cell_type": "code",
   "execution_count": null,
   "metadata": {},
   "outputs": [],
   "source": [
    "plt.plot(t, ou_1.mean(axis=0), 'k', lw=1)\n",
    "plt.plot(t, ou_1.std(axis=0), 'r', lw=1)"
   ]
  },
  {
   "cell_type": "code",
   "execution_count": null,
   "metadata": {},
   "outputs": [],
   "source": [
    "mean = mu\n",
    "stddev = c\n",
    "tau = 1 / alpha\n",
    "ou_2 = np.array([OU_2(dt, mean, stddev, tau, N, RandomState(MT19937(SeedSequence(seed)))) for seed in seeds])"
   ]
  },
  {
   "cell_type": "code",
   "execution_count": null,
   "metadata": {},
   "outputs": [],
   "source": [
    "plt.plot(t, ou_2.mean(axis=0), 'k', lw=1)\n",
    "plt.plot(t, ou_2.std(axis=0), 'r', lw=1)"
   ]
  },
  {
   "cell_type": "code",
   "execution_count": null,
   "metadata": {},
   "outputs": [],
   "source": [
    "ou_th = np.array([OU_TH(dt, alpha, mu, c, N, RandomState(MT19937(SeedSequence(seed)))) for seed in seeds])"
   ]
  },
  {
   "cell_type": "code",
   "execution_count": null,
   "metadata": {},
   "outputs": [],
   "source": [
    "plt.plot(t, ou_th.mean(axis=0), 'k', lw=1)\n",
    "plt.plot(t, ou_th.std(axis=0), 'r', lw=1)"
   ]
  },
  {
   "cell_type": "code",
   "execution_count": null,
   "metadata": {},
   "outputs": [],
   "source": [
    "ou_sde = np.array([OU_SDE(dt, alpha, mu, c, N, RandomState(MT19937(SeedSequence(seed)))) for seed in seeds])"
   ]
  },
  {
   "cell_type": "code",
   "execution_count": null,
   "metadata": {},
   "outputs": [],
   "source": [
    "plt.plot(t, ou_sde.mean(axis=0), 'k', lw=1)\n",
    "plt.plot(t, ou_sde.std(axis=0), 'r', lw=1)"
   ]
  },
  {
   "cell_type": "code",
   "execution_count": null,
   "metadata": {},
   "outputs": [],
   "source": [
    "fig,ax = plt.subplots(1, 1, figsize=(10,4))\n",
    "ax.plot(t, ou_1[0], 'k', lw=1)\n",
    "ax.plot(t, ou_2[0], 'r', lw=1)\n",
    "ax.plot(t, ou_th[0], 'g', lw=1)\n",
    "ax.plot(t, ou_sde[0], 'b', lw=1)"
   ]
  },
  {
   "cell_type": "code",
   "execution_count": null,
   "metadata": {},
   "outputs": [],
   "source": [
    "ou_1[0][:10]"
   ]
  },
  {
   "cell_type": "code",
   "execution_count": null,
   "metadata": {},
   "outputs": [],
   "source": [
    "ou_2[0][:10]"
   ]
  },
  {
   "cell_type": "code",
   "execution_count": null,
   "metadata": {},
   "outputs": [],
   "source": [
    "ou_th[0][:10]"
   ]
  },
  {
   "cell_type": "code",
   "execution_count": null,
   "metadata": {},
   "outputs": [],
   "source": [
    "ou_sde[0][:10]"
   ]
  }
 ],
 "metadata": {
  "kernelspec": {
   "display_name": "Python 3",
   "language": "python",
   "name": "python3"
  },
  "language_info": {
   "codemirror_mode": {
    "name": "ipython",
    "version": 3
   },
   "file_extension": ".py",
   "mimetype": "text/x-python",
   "name": "python",
   "nbconvert_exporter": "python",
   "pygments_lexer": "ipython3",
   "version": "3.7.12"
  }
 },
 "nbformat": 4,
 "nbformat_minor": 4
}
