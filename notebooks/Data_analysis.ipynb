{
 "cells": [
  {
   "cell_type": "code",
   "execution_count": null,
   "metadata": {},
   "outputs": [],
   "source": [
    "import os\n",
    "import sys\n",
    "import glob\n",
    "\n",
    "import numpy as np\n",
    "from scipy.fft import fft, fftfreq\n",
    "import matplotlib\n",
    "import matplotlib.pyplot as plt\n",
    "\n",
    "fontsize = 8\n",
    "lw = 0.75\n",
    "\n",
    "matplotlib.rc('font', **{'family': 'Times New Roman', 'size': fontsize})\n",
    "matplotlib.rc('axes', **{'linewidth': 0.75, 'labelsize': fontsize})\n",
    "matplotlib.rc('xtick', **{'labelsize': fontsize})\n",
    "matplotlib.rc('ytick', **{'labelsize': fontsize})\n",
    "matplotlib.rc('xtick.major', **{'width': lw, 'size':3})\n",
    "matplotlib.rc('ytick.major', **{'width': lw, 'size':3})\n",
    "matplotlib.rc('ytick.minor', **{'width': lw, 'size':1.5})\n",
    "\n",
    "if '..' not in sys.path:\n",
    "    sys.path.append('..')\n",
    "from dlml.data import load_data_generators, load_data_areas, read_area_values\n",
    "\n",
    "%matplotlib inline"
   ]
  },
  {
   "cell_type": "code",
   "execution_count": null,
   "metadata": {},
   "outputs": [],
   "source": [
    "def plot_data(data_folder, measure_values, var_names,\n",
    "              gen_id=None, area_id=None, gen_areas_map=None,\n",
    "              gen_Pnom=None, bus_id=None, line_ids=None, add_omega_ref=True,\n",
    "              xlim_distr = None, ylim=[-4,4], measure='momentum',\n",
    "              set_name='training'):\n",
    "    if gen_id is None and area_id is None:\n",
    "        raise Exception('One of gen_id or area_id must be not None')\n",
    "    if gen_id is not None and area_id is not None:\n",
    "        raise Exception('Either gen_id or area_id must be None')\n",
    "\n",
    "    measure_values = np.array(measure_values)\n",
    "    \n",
    "    if gen_id is not None:\n",
    "        inertia = {set_name: measure_values}\n",
    "        time, x, y = load_data_generators([data_folder], [gen_id], inertia, var_names,\n",
    "                                          max_block_size=500, use_tf=False)\n",
    "        idx = [np.where(y[set_name] == h)[0] for h in (measure_values.min(), measure_values.max())]\n",
    "        measure_units = 's'\n",
    "    else:\n",
    "        if measure == 'inertia':\n",
    "            measure_units = 's'\n",
    "            measure_abbrv = 'H'\n",
    "        elif measure == 'energy':\n",
    "            measure_units = r'GW$\\cdot$s'\n",
    "            measure_abbrv = 'E'\n",
    "        elif measure == 'momentum':\n",
    "            measure_units = r'GW$\\cdot$s$^2$'\n",
    "            measure_abbrv = 'M'\n",
    "        data_files = []\n",
    "        all_data_files = sorted(glob.glob(data_folder + '/*_' + set_name + '_set.h5'))\n",
    "        H = []\n",
    "        for data_file in all_data_files:\n",
    "            _, _, areas_H, _ = read_area_values(data_file, gen_areas_map, gen_Pnom, measure)\n",
    "            if areas_H[area_id] in measure_values:\n",
    "                data_files.append(data_file)\n",
    "            H.append(areas_H[area_id])\n",
    "        if len(data_files) == 0:\n",
    "            raise Exception(f'There are no files with the required values of {measure}. ' +\n",
    "                           f'Accepted values are {H}')\n",
    "        _, X, _ = load_data_areas({set_name: all_data_files}, var_names,\n",
    "                                  gen_areas_map, gen_Pnom,\n",
    "                                  measure, max_block_size=1000,\n",
    "                                  add_omega_ref=add_omega_ref, use_tf=False)\n",
    "        x_mean = np.mean(X[set_name], axis=(1,2))\n",
    "        x_std = np.std(X[set_name], axis=(1,2))\n",
    "        time, x, y = load_data_areas({set_name: data_files}, var_names,\n",
    "                                     gen_areas_map, gen_Pnom,\n",
    "                                     measure, max_block_size=1000,\n",
    "                                     add_omega_ref = add_omega_ref, use_tf=False)\n",
    "        idx = [np.where(y[set_name] == h)[0] for h in (measure_values.min(), measure_values.max())]\n",
    "    n_groups = len(idx)\n",
    "    \n",
    "    for i,(m,s) in enumerate(zip(x_mean, x_std)):\n",
    "        x[set_name][i,:,:] = (x[set_name][i,:,:] - m) / s\n",
    "    N_vars = len(var_names)\n",
    "\n",
    "    small = False\n",
    "    if small:\n",
    "        fig = plt.figure(figsize=(8.5 / 2.54, N_vars))\n",
    "        x_offset = [0.13, 0.03]\n",
    "        y_offset = [0.18, 0.03]\n",
    "        x_space = 0.1\n",
    "        y_space = 0.08\n",
    "        rows = N_vars\n",
    "        cols = 4\n",
    "        w = (1 - np.sum(x_offset) - x_space * (cols - 2)) / cols\n",
    "        h = (1 - np.sum(y_offset) - y_space * (rows - 1)) / rows\n",
    "\n",
    "        ax = [[plt.axes([x_offset[0], y_offset[0] + (h + y_space) * i, 2*w, h]),\n",
    "               plt.axes([x_offset[0] + 2 * w + 0.5 * x_space, y_offset[0] + (h + y_space) * i, w, h]),\n",
    "               plt.axes([x_offset[0] + 3 * w + 2 * x_space, y_offset[0] + (h + y_space) * i, w, h])]\n",
    "              for i in range(rows-1, -1, -1)]\n",
    "        for row in ax:\n",
    "            for a in row:\n",
    "                for side in 'right','top':\n",
    "                    a.spines[side].set_visible(False)\n",
    "        cmap = [[0,0,0], [.75,.75,.75]]\n",
    "        tmp_ax = []\n",
    "        for j in range(3):\n",
    "            for i in range(N_vars):\n",
    "                tmp_ax.append(ax[i][j])\n",
    "        ax = tmp_ax\n",
    "    else:\n",
    "        fig = plt.figure(figsize=(11, 2 * N_vars))\n",
    "        gs = fig.add_gridspec(N_vars, 4)\n",
    "        ax = []\n",
    "        for i in range(N_vars):\n",
    "            ax.append(fig.add_subplot(gs[i,:2]))\n",
    "        for j in (2,3):\n",
    "            for i in range(N_vars):\n",
    "                ax.append(fig.add_subplot(gs[i,j]))\n",
    "        cmap = [[0.2,0.8,0.2], [0.8,0.2,0.8]]\n",
    "\n",
    "    if xlim_distr is not None:\n",
    "        lim = xlim_distr\n",
    "    else:\n",
    "        lim = 0\n",
    "    \n",
    "    # variables used in FFT computation\n",
    "    N_samples = x[set_name].shape[-1]\n",
    "    dt = np.diff(time[:2])[0]\n",
    "    freq = fftfreq(N_samples, dt)[:N_samples//2]\n",
    "\n",
    "    for i in range(N_vars):\n",
    "        ### actual traces\n",
    "        for j in range(n_groups):\n",
    "            ax[i].plot(time, x[set_name][i, idx[j][:5], :].T, color=cmap[j], lw=0.75)\n",
    "        ax[i].grid(which='major', axis='y', lw=0.5, ls=':', color=[.6,.6,.6])\n",
    "        ax[i].set_xticks(np.r_[0 : 61 : 20])\n",
    "        ax[i].set_yticks(np.r_[-4 : 4.1 : 2])\n",
    "        if i != N_vars - 1:\n",
    "            ax[i].set_xticklabels([])\n",
    "\n",
    "        ### distributions\n",
    "        for j in range(n_groups):\n",
    "            n,edges = np.histogram(np.ndarray.flatten(x[set_name][i,:,:][idx[j],:]), \\\n",
    "                                   bins=100, range=ylim, density=True)\n",
    "            lim = n.max() if n.max() > lim else lim\n",
    "            ax[i+N_vars].plot(n, edges[:-1], color=cmap[j], linewidth=1.2,\n",
    "                              label=f'{measure_abbrv}={measure_values[j]:.3f} {measure_units}')\n",
    "        ax[i+N_vars].set_yticklabels([])\n",
    "        ax[i+N_vars].set_xticks([0, 0.5])\n",
    "        ax[i+N_vars].set_yticks(np.r_[-4 : 4.1 : 2])\n",
    "        if i != N_vars - 1:\n",
    "            ax[i+N_vars].set_xticklabels([])\n",
    "        ax[i+N_vars].grid(which='major', axis='y', lw=0.5, ls=':', color=[.6,.6,.6])\n",
    "        \n",
    "        ### FFTs\n",
    "        for j in range(n_groups):\n",
    "            Xf = fft(x[set_name][i, idx[j], :])\n",
    "            Xf = 2.0 / N_samples * np.abs(Xf[:, 0 : N_samples // 2])\n",
    "            m = Xf.mean(axis=0)\n",
    "            s = Xf.std(axis=0)\n",
    "            ci = 1.96 * s / np.sqrt(Xf.shape[0])\n",
    "            ax[i+2*N_vars].fill_between(freq, 20*np.log10(m-ci), 20*np.log10(m+ci), color=cmap[j], lw=1)\n",
    "        ax[i+2*N_vars].set_xscale('log')\n",
    "        if i != N_vars - 1:\n",
    "            ax[i+2*N_vars].set_xticklabels([])\n",
    "       \n",
    "    for a in ax:\n",
    "        for side in 'right', 'top':\n",
    "            a.spines[side].set_visible(False)\n",
    "    for i,var_name in enumerate(var_names):\n",
    "        ax[i].set_ylabel('Norm. ' + var_name)\n",
    "\n",
    "    for i in range(N_vars):\n",
    "        ax[i].set_ylim(ylim)\n",
    "        ax[N_vars + 1].set_ylim(ylim)\n",
    "        ax[N_vars + i].plot([0, lim*1.05], [0,0], '--', lw=1, color=[.6,.6,.6])\n",
    "        ax[2*N_vars + i].set_ylabel('Power [dB]')\n",
    "    ax[-1].set_xlabel('Frequency [Hz]')\n",
    "    \n",
    "    ax[N_vars - 1].set_xlabel('Time [s]')\n",
    "    ax[2 * N_vars - 1].set_xlabel('Fraction')\n",
    "    if not small:\n",
    "        ax[2*N_vars-1].legend(loc='lower right', frameon=False)\n",
    "        fig.tight_layout(pad=0.1)\n",
    "\n",
    "    if gen_id is not None:\n",
    "        fig.savefig(data_folder + f'/generator_{gen_id}.pdf');\n",
    "    elif bus_id is not None:\n",
    "        fig.savefig(data_folder + f'/bus_{bus_id}.pdf');\n",
    "    elif line_ids is not None:\n",
    "        fig.savefig(data_folder + f'/line_{line_ids[0]}_{line_ids[1]}.pdf');"
   ]
  },
  {
   "cell_type": "markdown",
   "metadata": {},
   "source": [
    "## Two area network"
   ]
  },
  {
   "cell_type": "raw",
   "metadata": {},
   "source": [
    "measure_values = [4,20]\n",
    "for area in 1,2:\n",
    "    data_folder = f'../data/two-area/var_H_area_{area}/two-area_D=2_DZA=60.0/'\n",
    "    var_names_fmt = 'omegael_bus{}','Pe_bus{}'\n",
    "    for bus in 7,9:\n",
    "        var_names = tuple(var_name.format(bus) for var_name in var_names_fmt)\n",
    "        plot_data(data_folder, measure_values, var_names, bus_id=bus, area_id=area-1,\n",
    "                  gen_areas_map=[['G1', 'G2'], ['G3', 'G4']],\n",
    "                  gen_Pnom={f'G{i+1}': 1e9 for i in range(4)}, \n",
    "                  xlim_distr = 0.67, ylim=[-4.5,4.5])"
   ]
  },
  {
   "cell_type": "markdown",
   "metadata": {},
   "source": [
    "## IEEE39 Hiskens' style"
   ]
  },
  {
   "cell_type": "code",
   "execution_count": null,
   "metadata": {
    "scrolled": true
   },
   "outputs": [],
   "source": [
    "bus_IDs = 3,# 14, 17, 39\n",
    "area = 1\n",
    "H_G1 = 500\n",
    "data_folder = f'../data/IEEE39/Hiskens/var_H_area_{area}/IEEE39_D=2_DZA=0.0/H_G1_500/stoch_load_bus_3'\n",
    "gen_areas_map = [['Pg31','Pg32','Pg39'], ['Pg33','Pg34','Pg35','Pg36'], ['Pg37','Pg38'], ['Pg30']]\n",
    "gen_Pnom = {gen: 100e6 for area in gen_areas_map for gen in area}\n",
    "measure = 'momentum'\n",
    "print(' ' * 58 + '{:^14s}'.format(measure.upper()))\n",
    "print('=' * 77)\n",
    "print('{:^56s} {:^6s} {:^6s} {:^6s}'.format('Filename', 'A1','A2','A3'))\n",
    "print('=' * 77)\n",
    "for data_file in sorted(glob.glob(data_folder + '/*_training_set.h5')):\n",
    "    gen_IDs, gen_H, area_meas, _ = read_area_values(data_file, gen_areas_map, gen_Pnom, measure)\n",
    "    a,b = os.path.basename(data_file)[:30], os.path.basename(data_file)[-23:]\n",
    "    print(f'{a}...{b} {area_meas[0]:6.3f} {area_meas[1]:6.3f} {area_meas[2]:6.3f}')"
   ]
  },
  {
   "cell_type": "code",
   "execution_count": null,
   "metadata": {
    "scrolled": false
   },
   "outputs": [],
   "source": [
    "if measure == 'momentum':\n",
    "    if area in (1,2):\n",
    "        measure_values = [8/30, 14/30]\n",
    "    elif area == 3:\n",
    "        measure_values = [0.1, 0.3]\n",
    "else:\n",
    "    raise Exception(f'Measure {measure} not valid')\n",
    "# var_names_fmt = 'omegael_bus{}','Pe_bus{}','Qe_bus{}','Vd_bus{}','Vq_bus{}'\n",
    "# var_names_fmt = 'Pe_bus{}','Qe_bus{}','Vd_bus{}','Vq_bus{}'\n",
    "var_names_fmt = 'Vd_bus{}', 'Pe_bus{}'\n",
    "for bus in bus_IDs:\n",
    "    var_names = tuple(var_name.format(bus) for var_name in var_names_fmt)\n",
    "    plot_data(data_folder, measure_values, var_names, bus_id=bus, area_id=area-1,\n",
    "              gen_areas_map=gen_areas_map, gen_Pnom=gen_Pnom, xlim_distr = 0.5, ylim=[-4,4])"
   ]
  },
  {
   "cell_type": "markdown",
   "metadata": {},
   "source": [
    "## IEEE39 with DIgSILENT PowerFactory"
   ]
  },
  {
   "cell_type": "code",
   "execution_count": null,
   "metadata": {
    "scrolled": false
   },
   "outputs": [],
   "source": [
    "area = 1\n",
    "data_folder = f'../data/IEEE39/PowerFactory/var_H_area_{area}'\n",
    "gen_areas_map = [['G 02','G 03','G 10'], ['G 04','G 05','G 06','G 07'], ['G 08','G 09'], ['G 01']]\n",
    "gen_Pnom = {'G 01': 10000e6, 'G 02': 700e6, 'G 03': 800e6, 'G 04': 800e6, 'G 05': 300e6,\n",
    "            'G 06': 800e6, 'G 07': 700e6, 'G 08': 700e6, 'G 09': 1000e6, 'G 10': 1000e6}\n",
    "measure = 'inertia'\n",
    "set_name = 'test'\n",
    "print(' ' * 64 + '{:^14s}'.format(measure.upper()))\n",
    "print('=' * 84)\n",
    "print('{:^56s} {:^6s} {:^6s} {:^6s} {:^6s}'.format('Filename', 'A1', 'A2', 'A3', 'A4'))\n",
    "print('=' * 84)\n",
    "for data_file in sorted(glob.glob(data_folder + '/*_' + set_name + '_set.h5')):\n",
    "    gen_IDs, gen_H, area_meas, _ = read_area_values(data_file, gen_areas_map, gen_Pnom, measure)\n",
    "    a,b = os.path.basename(data_file)[:30], os.path.basename(data_file)[-23:]\n",
    "    print(f'{a}...{b} {area_meas[0]:6.3f} {area_meas[1]:6.3f} {area_meas[2]:6.3f} {area_meas[3]:6.3f}')"
   ]
  },
  {
   "cell_type": "code",
   "execution_count": null,
   "metadata": {
    "scrolled": false
   },
   "outputs": [],
   "source": [
    "if set_name == 'training':\n",
    "    measure_values = [3.00004, 5.1002]\n",
    "elif set_name == 'test':\n",
    "    measure_values = [3.09984, 5.2]\n",
    "else:\n",
    "    raise Exception(f'set name {set_name} is not valid')\n",
    "# var_names_fmt = 'omegael_bus{}','Pe_bus{}','Qe_bus{}','Vd_bus{}','Vq_bus{}'\n",
    "var_names_fmt = 'Pe_bus{}','Qe_bus{}','Vd_bus{}','Vq_bus{}'\n",
    "bus_IDs = 3,\n",
    "for bus in bus_IDs:\n",
    "    var_names = tuple(var_name.format(bus) for var_name in var_names_fmt)\n",
    "    plot_data(data_folder, measure_values, var_names, bus_id=bus, area_id=area-1,\n",
    "              gen_areas_map=gen_areas_map, gen_Pnom=gen_Pnom, xlim_distr = 0.5, ylim=[-4,4],\n",
    "              measure='inertia', add_omega_ref=False, set_name=set_name)"
   ]
  },
  {
   "cell_type": "markdown",
   "metadata": {},
   "source": [
    "## IEEE39 converted from PowerFactory"
   ]
  },
  {
   "cell_type": "code",
   "execution_count": null,
   "metadata": {
    "scrolled": true
   },
   "outputs": [],
   "source": [
    "area = 1\n",
    "data_folder = f'../data/IEEE39/converted_from_PowerFactory/all_stoch_loads/var_H_area_{area}'\n",
    "gen_areas_map = [['G02','G03'], ['G04','G05','G06','G07'], ['G08','G09', 'G10'], ['G01']]\n",
    "gen_Pnom = {'G01': 10000e6, 'G02': 700e6, 'G03': 800e6, 'G04': 800e6, 'G05': 300e6,\n",
    "            'G06': 800e6, 'G07': 700e6, 'G08': 700e6, 'G09': 1000e6, 'G10': 1000e6}\n",
    "measure = 'momentum'\n",
    "set_name = 'test'\n",
    "print(' ' * 64 + '{:^14s}'.format(measure.upper()))\n",
    "print('=' * 84)\n",
    "print('{:^56s} {:^6s} {:^6s} {:^6s} {:^6s}'.format('Filename', 'A1', 'A2', 'A3', 'A4'))\n",
    "print('=' * 84)\n",
    "for data_file in sorted(glob.glob(data_folder + '/*_' + set_name + '_set.h5')):\n",
    "    gen_IDs, gen_H, area_meas, _ = read_area_values(data_file, gen_areas_map, gen_Pnom, measure)\n",
    "    a,b = os.path.basename(data_file)[:30], os.path.basename(data_file)[-23:]\n",
    "    print(f'{a}...{b} {area_meas[0]:6.3f} {area_meas[1]:6.3f} {area_meas[2]:6.3f} {area_meas[3]:6.3f}')"
   ]
  },
  {
   "cell_type": "code",
   "execution_count": null,
   "metadata": {
    "scrolled": false
   },
   "outputs": [],
   "source": [
    "if set_name == 'training':\n",
    "    measure_values = [0.14999666666666667, 0.30000333333333334]\n",
    "elif set_name == 'test':\n",
    "    measure_values = [0.155, 0.30498]\n",
    "else:\n",
    "    raise Exception(f'set name {set_name} is not valid')\n",
    "var_names_fmt = 'Vd_bus{}','Vq_bus{}'\n",
    "bus_IDs = 3, 14, 17, 39\n",
    "for bus in bus_IDs:\n",
    "    var_names = tuple(var_name.format(bus) for var_name in var_names_fmt)\n",
    "    plot_data(data_folder, measure_values, var_names, bus_id=bus, area_id=area-1,\n",
    "              gen_areas_map=gen_areas_map, gen_Pnom=gen_Pnom, xlim_distr = 0.5, ylim=[-4,4],\n",
    "              measure=measure, add_omega_ref=False, set_name=set_name)"
   ]
  },
  {
   "cell_type": "code",
   "execution_count": null,
   "metadata": {
    "scrolled": false
   },
   "outputs": [],
   "source": [
    "if set_name == 'training':\n",
    "    measure_values = [0.14999666666666667, 0.30000333333333334]\n",
    "elif set_name == 'test':\n",
    "    measure_values = [0.155, 0.30498]\n",
    "else:\n",
    "    raise Exception(f'set name {set_name} is not valid')\n",
    "var_names_fmt = 'Id_line_{}_{}','Iq_line_{}_{}'\n",
    "lines_IDs = (3,4), (14,15), (16,17), (1,39)\n",
    "for lines in lines_IDs:\n",
    "    var_names = tuple(var_name.format(lines[0], lines[1]) for var_name in var_names_fmt)\n",
    "    plot_data(data_folder, measure_values, var_names, line_ids=lines, area_id=area-1,\n",
    "              gen_areas_map=gen_areas_map, gen_Pnom=gen_Pnom, xlim_distr = 0.5, ylim=[-4,4],\n",
    "              measure=measure, add_omega_ref=False, set_name=set_name)"
   ]
  },
  {
   "cell_type": "markdown",
   "metadata": {},
   "source": [
    "## IEEE39 converted from PowerFactory (with compensators)"
   ]
  },
  {
   "cell_type": "code",
   "execution_count": null,
   "metadata": {
    "scrolled": true
   },
   "outputs": [],
   "source": [
    "bus_IDs = 3, 14, 17, 39\n",
    "area = 1\n",
    "data_folder = f'../data/IEEE39/converted_from_PowerFactory/all_stoch_loads/var_H_area_{area}_comp'\n",
    "gen_areas_map = [['G02','G03','Comp11'],\n",
    "                 ['G04','G05','G06','G07','Comp21'],\n",
    "                 ['G08','G09', 'G10','Comp31'],\n",
    "                 ['G01']]\n",
    "gen_Pnom = {'G01': 10000e6, 'G02': 700e6, 'G03': 800e6, 'G04': 800e6, 'G05': 300e6,\n",
    "            'G06': 800e6, 'G07': 700e6, 'G08': 700e6, 'G09': 1000e6, 'G10': 1000e6,\n",
    "            'Comp11': 100e6, 'Comp21': 100e6, 'Comp31': 100e6}\n",
    "measure = 'momentum'\n",
    "set_name = 'test'\n",
    "print(' ' * 64 + '{:^14s}'.format(measure.upper()))\n",
    "print('=' * 84)\n",
    "print('{:^56s} {:^6s} {:^6s} {:^6s} {:^6s}'.format('Filename', 'A1', 'A2', 'A3', 'A4'))\n",
    "print('=' * 84)\n",
    "for data_file in sorted(glob.glob(data_folder + '/*_' + set_name + '_set.h5')):\n",
    "    gen_IDs, gen_H, area_meas, _ = read_area_values(data_file, gen_areas_map, gen_Pnom, measure)\n",
    "    a,b = os.path.basename(data_file)[:30], os.path.basename(data_file)[-23:]\n",
    "    print(f'{a}...{b} {area_meas[0]:6.3f} {area_meas[1]:6.3f} {area_meas[2]:6.3f} {area_meas[3]:6.3f}')"
   ]
  },
  {
   "cell_type": "code",
   "execution_count": null,
   "metadata": {
    "scrolled": false
   },
   "outputs": [],
   "source": [
    "if set_name == 'training':\n",
    "    measure = []\n",
    "elif set_name == 'test':\n",
    "    measure_values = [0.15500000003333333, 0.30500000013333334]\n",
    "else:\n",
    "    raise Exception(f'set name {set_name} is not valid')\n",
    "var_names_fmt = 'Vd_bus{}','Vq_bus{}'\n",
    "for bus in bus_IDs:\n",
    "    var_names = tuple(var_name.format(bus) for var_name in var_names_fmt)\n",
    "    plot_data(data_folder, measure_values, var_names, bus_id=bus, area_id=area-1,\n",
    "              gen_areas_map=gen_areas_map, gen_Pnom=gen_Pnom, xlim_distr = 0.5, ylim=[-4,4],\n",
    "              measure=measure, add_omega_ref=False, set_name=set_name)"
   ]
  },
  {
   "cell_type": "code",
   "execution_count": null,
   "metadata": {
    "scrolled": false
   },
   "outputs": [],
   "source": [
    "if set_name == 'training':\n",
    "    measure = []\n",
    "elif set_name == 'test':\n",
    "    measure_values = [0.15500000003333333, 0.30500000013333334]\n",
    "else:\n",
    "    raise Exception(f'set name {set_name} is not valid')\n",
    "var_names_fmt = 'Id_line_{}_{}','Iq_line_{}_{}'\n",
    "lines_IDs = (3,4), (14,15), (16,17), (1,39)\n",
    "for lines in lines_IDs:\n",
    "    var_names = tuple(var_name.format(lines[0], lines[1]) for var_name in var_names_fmt)\n",
    "    plot_data(data_folder, measure_values, var_names, line_ids=lines, area_id=area-1,\n",
    "              gen_areas_map=gen_areas_map, gen_Pnom=gen_Pnom, xlim_distr = 0.5, ylim=[-4,4],\n",
    "              measure=measure, add_omega_ref=False, set_name=set_name)"
   ]
  }
 ],
 "metadata": {
  "kernelspec": {
   "display_name": "Python 3",
   "language": "python",
   "name": "python3"
  },
  "language_info": {
   "codemirror_mode": {
    "name": "ipython",
    "version": 3
   },
   "file_extension": ".py",
   "mimetype": "text/x-python",
   "name": "python",
   "nbconvert_exporter": "python",
   "pygments_lexer": "ipython3",
   "version": "3.7.3"
  }
 },
 "nbformat": 4,
 "nbformat_minor": 4
}
