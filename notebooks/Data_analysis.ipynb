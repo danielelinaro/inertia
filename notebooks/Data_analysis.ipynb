{
 "cells": [
  {
   "cell_type": "code",
   "execution_count": null,
   "metadata": {},
   "outputs": [],
   "source": [
    "import os\n",
    "import re\n",
    "import sys\n",
    "import glob\n",
    "import pickle\n",
    "from time import strftime, localtime\n",
    "\n",
    "import numpy as np\n",
    "from scipy.fft import fft, fftfreq\n",
    "import matplotlib.pyplot as plt\n",
    "plt.rc('font', **{'family': 'sans-serif', 'size': 9})\n",
    "\n",
    "if '..' not in sys.path:\n",
    "    sys.path.append('..')\n",
    "from deep_utils import *\n",
    "\n",
    "%matplotlib inline"
   ]
  },
  {
   "cell_type": "code",
   "execution_count": null,
   "metadata": {},
   "outputs": [],
   "source": [
    "def plot_data(data_folder, H_values, var_names,\n",
    "              gen_id=None, area_id=None, gen_areas_map=None,\n",
    "              gen_Pnom=None, bus_id=None, add_omega_ref=True,\n",
    "              xlim_distr = None, ylim=[-4,4]):\n",
    "    if gen_id is None and (bus_id is None or area_id is None):\n",
    "        raise Exception('One of gen_id or (bus_id,area_id) must be not None')\n",
    "    if gen_id is not None and (bus_id is not None or area_id is not None):\n",
    "        raise Exception('One of gen_id or (bus_id,area_id) must be None')\n",
    "\n",
    "    H_values = np.array(H_values)\n",
    "    \n",
    "    if gen_id is not None:\n",
    "        inertia = {'training': H_values}\n",
    "        time, x, y = load_data_generators([data_folder], [gen_id], inertia, var_names,\n",
    "                                          max_block_size=500, use_tf=False)\n",
    "        idx_min, _ = np.where(y['training'] == H_values.min())\n",
    "        idx_max, _ = np.where(y['training'] == H_values.max())\n",
    "        inertia_units = 's'\n",
    "    else:\n",
    "        area_inertia = 'energy'\n",
    "        inertia_units = 'GW s'\n",
    "        data_files = []\n",
    "        for data_file in glob.glob(data_folder + '/*_training_set.h5'):\n",
    "            _, _, areas_H = read_area_values(data_file, gen_areas_map, gen_Pnom, area_inertia)\n",
    "            H = areas_H[area_id]\n",
    "            if H in H_values:\n",
    "                data_files.append(data_file)\n",
    "        time, x, y = load_data_areas({'training': data_files}, var_names,\n",
    "                                     gen_areas_map, gen_Pnom,\n",
    "                                     area_inertia, max_block_size=1000,\n",
    "                                     add_omega_ref = add_omega_ref, use_tf=False)\n",
    "        idx_min, _ = np.where(y['training'] == H_values.min())\n",
    "        idx_max, _ = np.where(y['training'] == H_values.max())\n",
    "\n",
    "    x_train_mean = np.mean(x['training'], axis=(1,2))\n",
    "    x_train_std = np.std(x['training'], axis=(1,2))\n",
    "    for i,(m,s) in enumerate(zip(x_train_mean, x_train_std)):\n",
    "        x['training'][i,:,:] = (x['training'][i,:,:] - m) / s\n",
    "    \n",
    "    N_vars = len(var_names)\n",
    "    fig = plt.figure(figsize=(11,2 * N_vars))\n",
    "    gs = fig.add_gridspec(N_vars, 4)\n",
    "    ax = []\n",
    "    for i in range(N_vars):\n",
    "        ax.append(fig.add_subplot(gs[i,:2]))\n",
    "    for j in (2,3):\n",
    "        for i in range(N_vars):\n",
    "            ax.append(fig.add_subplot(gs[i,j]))\n",
    "\n",
    "    if xlim_distr is not None:\n",
    "        lim = xlim_distr\n",
    "    else:\n",
    "        lim = 0\n",
    "    \n",
    "    # variables used in FFT computation\n",
    "    block_size = 5\n",
    "    N_samples = block_size * x['training'].shape[-1]\n",
    "    dt = np.diff(time[:2])[0]\n",
    "    freq = fftfreq(N_samples, dt)[:N_samples//2]\n",
    "        \n",
    "    cmap = [[0.2,0.8,0.2], [0.8,0.2,0.8]] \n",
    "    for i in range(N_vars):\n",
    "        ### actual traces\n",
    "        ax[i].plot(time, x['training'][i, idx_min[:5], :].T, color=cmap[0], lw=1)\n",
    "        ax[i].plot(time, x['training'][i, idx_max[:5], :].T, color=cmap[1], lw=1)\n",
    "\n",
    "        ### distributions\n",
    "        n,edges = np.histogram(np.ndarray.flatten(x['training'][i,:,:][idx_min,:]), \\\n",
    "                               bins=100, range=ylim, density=True)\n",
    "        lim = n.max() if n.max() > lim else lim\n",
    "        ax[i+N_vars].plot(n, edges[:-1], color=cmap[0], linewidth=1.2)\n",
    "        n,edges = np.histogram(np.ndarray.flatten(x['training'][i,:,:][idx_max,:]), \\\n",
    "                               bins=100, range=ylim, density=True)\n",
    "        lim = n.max() if n.max() > lim else lim\n",
    "        ax[i+N_vars].plot(n, edges[:-1], color=cmap[1], linewidth=1.2)\n",
    "        ax[i+N_vars].set_yticklabels([])\n",
    "        \n",
    "        ### FFTs\n",
    "        N_traces = idx_min.size // block_size\n",
    "        Xf = np.zeros((N_traces, N_samples), dtype=np.complex64)\n",
    "        for j in range(N_traces):\n",
    "            start_trace = j * block_size\n",
    "            X = np.vstack(x['training'][i, idx_min[start_trace : start_trace + block_size], :]).flatten()\n",
    "            Xf[j,:] = fft(X)\n",
    "        Xf = 2.0 / N_samples * np.abs(Xf[:, 0 : N_samples // 2])\n",
    "        ax[i+2*N_vars].semilogy(freq, Xf.mean(axis=0), color=cmap[0], lw=1, label=f'H={H_values[0]:g} {inertia_units}')\n",
    "        N_traces = idx_max.size // block_size\n",
    "        Xf = np.zeros((N_traces, N_samples), dtype=np.complex64)\n",
    "        for j in range(N_traces):\n",
    "            start_trace = j * block_size\n",
    "            X = np.vstack(x['training'][i, idx_max[start_trace : start_trace + block_size], :]).flatten()\n",
    "            Xf[j,:] = fft(X)\n",
    "        Xf = 2.0 / N_samples * np.abs(Xf[:, 0 : N_samples // 2])\n",
    "        ax[i+2*N_vars].semilogy(freq, Xf.mean(axis=0), color=cmap[1], lw=1, label=f'H={H_values[1]:g} {inertia_units}')\n",
    "       \n",
    "    for a in ax:\n",
    "        for side in 'right', 'top':\n",
    "            a.spines[side].set_visible(False)\n",
    "    for i,var_name in enumerate(var_names):\n",
    "        ax[i].set_ylabel('Norm. ' + var_name)\n",
    "\n",
    "    for i in range(N_vars):\n",
    "        ax[i].set_ylim(ylim)\n",
    "        ax[i+N_vars].set_ylim(ylim)\n",
    "        ax[N_vars + i].plot([0, lim*1.05], [0,0], '--', lw=1, color=[.6,.6,.6])\n",
    "        ax[2*N_vars + i].set_ylabel('Magnitude')\n",
    "    ax[-1].set_xlabel('Frequency [Hz]')\n",
    "    \n",
    "    ax[N_vars-1].set_xlabel('Time [s]')\n",
    "    ax[2*N_vars-1].set_xlabel('Fraction')\n",
    "    ax[3*N_vars-1].legend(loc='upper right')\n",
    "    fig.tight_layout()\n",
    "    if gen_id is not None:\n",
    "        fig.savefig(data_folder + f'/generator_{gen_id}.pdf');\n",
    "    else:\n",
    "        fig.savefig(data_folder + f'/bus_{bus_id}.pdf');"
   ]
  },
  {
   "cell_type": "raw",
   "metadata": {},
   "source": [
    "data_folder = '../data/IEEE14/var_H_G1/IEEE14_D=2_DZA=60.0/'\n",
    "for gen in 1,2,3,6,8:\n",
    "    plot_data(data_folder, gen_id=gen, xlim_distr = 0.67)"
   ]
  },
  {
   "cell_type": "raw",
   "metadata": {},
   "source": [
    "data_folder = '../data/IEEE14/var_H_G1/IEEE14_D=2_DZA=0.036/'\n",
    "for gen in 1,2,3,6,8:\n",
    "    plot_data(data_folder, gen_id=gen, xlim_distr = 0.6)"
   ]
  },
  {
   "cell_type": "raw",
   "metadata": {},
   "source": [
    "data_folder = '../data/IEEE14/var_H_G1/IEEE14_D=0_DZA=0.36/'\n",
    "for gen in 1,2,3,6,8:\n",
    "    plot_data(data_folder, gen_id=gen, xlim_distr = 0.62)"
   ]
  },
  {
   "cell_type": "raw",
   "metadata": {},
   "source": [
    "data_folder = '../data/IEEE14/var_H_G2/IEEE14_D=2_DZA=60.0/'\n",
    "for gen in 1,2,3,6,8:\n",
    "    plot_data(data_folder, gen_id=gen, xlim_distr = 0.67)"
   ]
  },
  {
   "cell_type": "markdown",
   "metadata": {},
   "source": [
    "## Two area network"
   ]
  },
  {
   "cell_type": "code",
   "execution_count": null,
   "metadata": {},
   "outputs": [],
   "source": [
    "H_values = [4,20]\n",
    "for area in 1,2:\n",
    "    data_folder = f'../data/two-area/var_H_area_{area}/two-area_D=2_DZA=60.0/'\n",
    "    var_names_fmt = 'omegael_bus{}','Pe_bus{}'\n",
    "    for bus in 7,9:\n",
    "        var_names = tuple(var_name.format(bus) for var_name in var_names_fmt)\n",
    "        plot_data(data_folder, H_values, var_names, bus_id=bus, area_id=area-1,\n",
    "                  gen_areas_map=[['G1', 'G2'], ['G3', 'G4']],\n",
    "                  gen_Pnom={f'G{i+1}': 1e9 for i in range(4)}, \n",
    "                  xlim_distr = 0.67, ylim=[-4.5,4.5])"
   ]
  },
  {
   "cell_type": "markdown",
   "metadata": {},
   "source": [
    "## IEEE39"
   ]
  },
  {
   "cell_type": "code",
   "execution_count": null,
   "metadata": {
    "scrolled": true
   },
   "outputs": [],
   "source": [
    "bus_IDs = 3, 14, 17, 39\n",
    "area = 2\n",
    "H_G1 = 500\n",
    "data_folder = f'../data/IEEE39/var_H_area_{area}/IEEE39_D=2_DZA=60.0/'\n",
    "gen_areas_map = [['Pg31','Pg32','Pg39'], ['Pg33','Pg34','Pg35','Pg36'], ['Pg37','Pg38','Pg30']]\n",
    "gen_Pnom = {gen: 100e6 for area in gen_areas_map for gen in area}\n",
    "area_inertia = 'energy'\n",
    "print(' ' * 58 + '{:^14s}'.format('INERTIA'))\n",
    "print('=' * 77)\n",
    "print('{:^56s} {:^6s} {:^6s} {:^6s}'.format('Filename', 'A1','A2','A3'))\n",
    "print('=' * 77)\n",
    "for data_file in glob.glob(data_folder + '/*_training_set.h5'):\n",
    "    gen_IDs, gen_H, area_H = read_area_values(data_file, gen_areas_map, gen_Pnom, area_inertia)\n",
    "    a,b = os.path.basename(data_file)[:30], os.path.basename(data_file)[-23:]\n",
    "    print(f'{a}...{b} {area_H[0]:6.3f} {area_H[1]:6.3f} {area_H[2]:6.3f}')"
   ]
  },
  {
   "cell_type": "code",
   "execution_count": null,
   "metadata": {},
   "outputs": [],
   "source": [
    "H_values = [8,14]\n",
    "# var_names_fmt = 'omegael_bus{}','Pe_bus{}','Qe_bus{}','Vd_bus{}','Vq_bus{}'\n",
    "var_names_fmt = 'Pe_bus{}','Vd_bus{}','Vq_bus{}'\n",
    "for bus in bus_IDs:\n",
    "    var_names = tuple(var_name.format(bus) for var_name in var_names_fmt)\n",
    "    plot_data(data_folder, H_values, var_names, bus_id=bus, area_id=area-1,\n",
    "              gen_areas_map=gen_areas_map, gen_Pnom=gen_Pnom, xlim_distr = 0.5, ylim=[-4,4])"
   ]
  },
  {
   "cell_type": "code",
   "execution_count": null,
   "metadata": {},
   "outputs": [],
   "source": []
  }
 ],
 "metadata": {
  "kernelspec": {
   "display_name": "Python 3",
   "language": "python",
   "name": "python3"
  },
  "language_info": {
   "codemirror_mode": {
    "name": "ipython",
    "version": 3
   },
   "file_extension": ".py",
   "mimetype": "text/x-python",
   "name": "python",
   "nbconvert_exporter": "python",
   "pygments_lexer": "ipython3",
   "version": "3.7.3"
  }
 },
 "nbformat": 4,
 "nbformat_minor": 4
}
