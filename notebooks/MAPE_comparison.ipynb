{
 "cells": [
  {
   "cell_type": "code",
   "execution_count": null,
   "id": "8f9e54fc",
   "metadata": {},
   "outputs": [],
   "source": [
    "from datetime import datetime\n",
    "import numpy as np\n",
    "if '..' not in sys.path:\n",
    "    sys.path.append('..')\n",
    "from dlml.utils import collect_experiments"
   ]
  },
  {
   "cell_type": "code",
   "execution_count": null,
   "id": "99a26586",
   "metadata": {},
   "outputs": [],
   "source": [
    "area_ID = 1\n",
    "level = 1\n",
    "time_interval = datetime(2023, 4, 24), datetime(2023, 4, 27)\n",
    "expts_CNN = collect_experiments(area_ID, area_measure='momentum',\n",
    "                                rec_bus_IDs=[3],\n",
    "                                additional_tags=['neural_network',\n",
    "                                                 'converted_from_PowerFactory',\n",
    "                                                 'compensators_in_training',\n",
    "                                                 '1D_pipeline', 'trial_dur_60',\n",
    "                                                 'data_subset', 'Vd'],\n",
    "                                time_interval=time_interval,\n",
    "                                verbose_level=level)\n",
    "expts_sklearn = collect_experiments(area_ID, area_measure='momentum',\n",
    "                                    additional_tags=['sklearn'],\n",
    "                                    verbose_level=level)"
   ]
  },
  {
   "cell_type": "code",
   "execution_count": null,
   "id": "0e7cdbea",
   "metadata": {},
   "outputs": [],
   "source": [
    "models = 'CNN','SVR','MLP','nearest_neighbors','kernel_ridge','random_forest'\n",
    "MAPE = {key: [] for key in models}\n",
    "for ID,expt in expts_sklearn.items():\n",
    "    for key in MAPE:\n",
    "        if key in expt['tags']:\n",
    "            break\n",
    "    MAPE[key].append(expt['MAPE'])\n",
    "for ID,expt in expts_CNN.items():\n",
    "    MAPE['CNN'].append(expt['MAPE'])"
   ]
  },
  {
   "cell_type": "code",
   "execution_count": null,
   "id": "5f5d731e",
   "metadata": {},
   "outputs": [],
   "source": [
    "for key in models:\n",
    "    if len(MAPE[key]) == 1:\n",
    "        print(key.replace('_',' ') + ' ' + '.' * (25-len(key)) +\n",
    "              ' {:6.3f}%'.format(MAPE[key][0]))\n",
    "    else:\n",
    "        print(key.replace('_',' ') + ' ' + '.' * (25-len(key)) +\n",
    "              ' {:6.3f}% +- {:5.3f}%'.format(np.mean(MAPE[key]),\n",
    "                                            np.std(MAPE[key])/np.sqrt(len(MAPE[key]))))"
   ]
  },
  {
   "cell_type": "markdown",
   "id": "1755434d",
   "metadata": {},
   "source": [
    "## Table for the paper discussion"
   ]
  },
  {
   "cell_type": "code",
   "execution_count": null,
   "id": "a1852070",
   "metadata": {},
   "outputs": [],
   "source": [
    "with open('MAPE_comparison_table.tex', 'w') as fid:\n",
    "    fid.write('\\\\begin{table}[tb!]\\n')\n",
    "    fid.write('\\\\begin{center}\\n')\n",
    "    fid.write('\\\\caption{MAPE\\n')\n",
    "    fid.write('\\\\label{tab:map}}\\n')\n",
    "    fid.write('\\\\begin{tabular}{lcc}\\n')\n",
    "    fid.write('\\\\toprule\\n')\n",
    "    fid.write('\\\\thead{Model} & \\\\thead{\\\\ac{mape} [\\\\%]} & \\\\thead{N} \\\\\\\\\\n')\n",
    "    fid.write('\\\\midrule\\n')\n",
    "    for key in models:\n",
    "        if '_' in key:\n",
    "            model = key.replace('_',' ').capitalize()\n",
    "        else:\n",
    "            model = key\n",
    "        fid.write(model + ' & ')\n",
    "        if len(MAPE[key]) == 1:\n",
    "            fid.write('{:.2f} & 1 \\\\\\\\\\n'.format(MAPE[key][0]))\n",
    "        else:\n",
    "            fid.write('{:.2f} $\\\\pm$ {:.2f} & {} \\\\\\\\\\n'.\n",
    "                      format(np.mean(MAPE[key]),\n",
    "                             np.std(MAPE[key]) / np.sqrt(len(MAPE[key])),\n",
    "                             len(MAPE[key])))\n",
    "    fid.write('\\\\bottomrule\\n')\n",
    "    fid.write('\\\\end{tabular}\\n')\n",
    "    fid.write('\\\\end{center}\\n')\n",
    "    fid.write('\\\\end{table}\\n')"
   ]
  }
 ],
 "metadata": {
  "kernelspec": {
   "display_name": "Python 3 (ipykernel)",
   "language": "python",
   "name": "python3"
  },
  "language_info": {
   "codemirror_mode": {
    "name": "ipython",
    "version": 3
   },
   "file_extension": ".py",
   "mimetype": "text/x-python",
   "name": "python",
   "nbconvert_exporter": "python",
   "pygments_lexer": "ipython3",
   "version": "3.10.8"
  }
 },
 "nbformat": 4,
 "nbformat_minor": 5
}
