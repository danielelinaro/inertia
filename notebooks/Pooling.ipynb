{
 "cells": [
  {
   "cell_type": "code",
   "execution_count": null,
   "id": "d2acd9a0",
   "metadata": {},
   "outputs": [],
   "source": [
    "import numpy as np\n",
    "import tensorflow as tf\n",
    "import tensorflow.keras as keras\n",
    "from tensorflow.nn import max_pool_with_argmax"
   ]
  },
  {
   "cell_type": "code",
   "execution_count": null,
   "id": "a9b127cb",
   "metadata": {},
   "outputs": [],
   "source": [
    "class MaxPooling1DWithArgmax(keras.layers.MaxPooling1D):\n",
    "    def __init__(self, pool_size=2, strides=None,\n",
    "                 padding='valid', data_format='channels_last', **kwargs):\n",
    "\n",
    "        super(MaxPooling1DWithArgmax, self).__init__(\n",
    "            pool_size=pool_size,\n",
    "            strides=strides,\n",
    "            padding=padding,\n",
    "            data_format=data_format,\n",
    "            **kwargs)\n",
    "\n",
    "        self.store_argmax = False\n",
    "        self.padding_upper = padding.upper()\n",
    "\n",
    "    def call(self, inputs):\n",
    "        if self.store_argmax:\n",
    "            ret = tf.nn.max_pool_with_argmax(tf.expand_dims(inputs, 1),\n",
    "                                             ksize=(1, self.pool_size[0]),\n",
    "                                             strides=(1, self.strides[0]),\n",
    "                                             padding=self.padding_upper)\n",
    "            self.ret = ret\n",
    "            self.argmax = ret.argmax\n",
    "        return super(MaxPooling1DWithArgmax, self).call(inputs)"
   ]
  },
  {
   "cell_type": "code",
   "execution_count": null,
   "id": "07b17a69",
   "metadata": {},
   "outputs": [],
   "source": [
    "pool_size = 4\n",
    "padding = 'valid'\n",
    "name = 'max_pool_1d'\n",
    "\n",
    "max_pool = keras.layers.MaxPooling1D(pool_size=pool_size, strides=pool_size,\n",
    "                                     padding=padding, name=name)\n",
    "\n",
    "max_pool_argmax = MaxPooling1DWithArgmax(pool_size=pool_size, strides=pool_size,\n",
    "                                         padding=padding, name=name+'_with_argmax')"
   ]
  },
  {
   "cell_type": "code",
   "execution_count": null,
   "id": "762a7a18",
   "metadata": {},
   "outputs": [],
   "source": [
    "input_shape = (50, 2385, 16)\n",
    "tf.random.set_seed(5061983)\n",
    "x = tf.random.uniform(input_shape)\n",
    "max_pool_argmax.store_argmax = True\n",
    "y1 = max_pool(x)\n",
    "y2 = max_pool_argmax(x)\n",
    "y3 = tf.squeeze(max_pool_argmax.ret.output)\n",
    "max_pool_argmax.store_argmax = False\n",
    "assert np.all((y1 == y3).numpy())"
   ]
  },
  {
   "cell_type": "code",
   "execution_count": null,
   "id": "40c70798",
   "metadata": {},
   "outputs": [],
   "source": [
    "%%timeit\n",
    "y1 = max_pool(x)"
   ]
  },
  {
   "cell_type": "code",
   "execution_count": null,
   "id": "e5b71092",
   "metadata": {},
   "outputs": [],
   "source": [
    "%%timeit\n",
    "y2 = max_pool_argmax(x)"
   ]
  },
  {
   "cell_type": "code",
   "execution_count": null,
   "id": "c68376e4",
   "metadata": {},
   "outputs": [],
   "source": [
    "max_pool_argmax.store_argmax = True"
   ]
  },
  {
   "cell_type": "code",
   "execution_count": null,
   "id": "f9acd121",
   "metadata": {},
   "outputs": [],
   "source": [
    "%%timeit\n",
    "y2 = max_pool_argmax(x)"
   ]
  }
 ],
 "metadata": {
  "kernelspec": {
   "display_name": "Python 3",
   "language": "python",
   "name": "python3"
  },
  "language_info": {
   "codemirror_mode": {
    "name": "ipython",
    "version": 3
   },
   "file_extension": ".py",
   "mimetype": "text/x-python",
   "name": "python",
   "nbconvert_exporter": "python",
   "pygments_lexer": "ipython3",
   "version": "3.7.3"
  }
 },
 "nbformat": 4,
 "nbformat_minor": 5
}
