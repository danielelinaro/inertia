{
 "cells": [
  {
   "cell_type": "markdown",
   "metadata": {},
   "source": [
    "## Numpy and Scipy"
   ]
  },
  {
   "cell_type": "code",
   "execution_count": null,
   "metadata": {},
   "outputs": [],
   "source": [
    "import numpy as np\n",
    "from scipy.fft import fft, ifft, fftfreq, rfft, irfft, rfftfreq\n",
    "from scipy.fftpack import fftshift\n",
    "from scipy.signal import convolve\n",
    "import matplotlib.pyplot as plt\n",
    "%matplotlib notebook\n",
    "# %matplotlib inline"
   ]
  },
  {
   "cell_type": "code",
   "execution_count": null,
   "metadata": {},
   "outputs": [],
   "source": [
    "def spectral_pooling(x, dt, max_freq):\n",
    "    srate = 1 / dt\n",
    "    xf = fft(x)\n",
    "    n_samples = x.size\n",
    "    freq = fftfreq(n_samples, dt)\n",
    "    xf_trunc = xf[np.abs(freq) <= max_freq]\n",
    "    x_sub = ifft(xf_trunc) * (max_freq / srate *  2)\n",
    "    t_sub = np.linspace(0, dt * n_samples, x_sub.size)\n",
    "    return t_sub, np.real(x_sub)"
   ]
  },
  {
   "cell_type": "code",
   "execution_count": null,
   "metadata": {},
   "outputs": [],
   "source": [
    "def rspectral_pooling(x, dt, max_freq):\n",
    "    max_freq = 10\n",
    "    srate = 1 / dt\n",
    "    xf = rfft(x)\n",
    "    n_samples = x.size\n",
    "    freq = rfftfreq(n_samples, dt)\n",
    "    xf_trunc = xf[freq <= max_freq]\n",
    "    x_sub = irfft(xf_trunc) * (max_freq / srate * 2)\n",
    "    t_sub = np.linspace(0, dt * n_samples, x_sub.size)\n",
    "    return t_sub, np.real(x_sub)"
   ]
  },
  {
   "cell_type": "code",
   "execution_count": null,
   "metadata": {},
   "outputs": [],
   "source": [
    "tend = 60\n",
    "srate = 40\n",
    "dt = 1/srate\n",
    "t = np.r_[0 : tend : dt]\n",
    "F = [0.2, 1, 2, 5, 7]\n",
    "x = np.array([np.cos(2 * np.pi * f * t) for f in F]).sum(axis=0)\n",
    "eta = 1 * np.random.uniform(size=x.shape)\n",
    "x += eta"
   ]
  },
  {
   "cell_type": "code",
   "execution_count": null,
   "metadata": {},
   "outputs": [],
   "source": [
    "df = 1 / tend\n",
    "Fend = srate / 2\n",
    "freq = np.r_[0 : Fend : df]\n",
    "window = np.zeros(freq.shape, dtype=np.complex128)\n",
    "window[freq < 10] = 1"
   ]
  },
  {
   "cell_type": "code",
   "execution_count": null,
   "metadata": {},
   "outputs": [],
   "source": [
    "freq.size"
   ]
  },
  {
   "cell_type": "code",
   "execution_count": null,
   "metadata": {},
   "outputs": [],
   "source": [
    "middle = freq.size\n",
    "kernel = fftshift(irfft(window))\n",
    "n = 16\n",
    "kernel = kernel[middle-n//2 : middle+n//2]\n",
    "# kernel = kernel[:16]\n",
    "y = convolve(x, kernel, mode='same')"
   ]
  },
  {
   "cell_type": "code",
   "execution_count": null,
   "metadata": {},
   "outputs": [],
   "source": [
    "plt.figure()\n",
    "plt.plot(kernel)"
   ]
  },
  {
   "cell_type": "code",
   "execution_count": null,
   "metadata": {},
   "outputs": [],
   "source": [
    "#%%timeit\n",
    "t_pooled, x_pooled = spectral_pooling(x, dt, srate/4)"
   ]
  },
  {
   "cell_type": "code",
   "execution_count": null,
   "metadata": {},
   "outputs": [],
   "source": [
    "#%%timeit\n",
    "t_pooled_r, x_pooled_r = rspectral_pooling(x, dt, srate/4)"
   ]
  },
  {
   "cell_type": "code",
   "execution_count": null,
   "metadata": {},
   "outputs": [],
   "source": [
    "fig,ax = plt.subplots(1, 1)\n",
    "ax.plot(t, x, 'k', lw=1, label='Original')\n",
    "ax.plot(t_pooled, x_pooled, 'm', lw=1, label='Downsampled')\n",
    "# ax.plot(t_pooled_r, x_pooled_r, 'g', lw=1, label='Downsampled (R)')\n",
    "ax.plot(t, y, 'c', lw=1, label='Convolution')\n",
    "for side in 'right','top':\n",
    "    ax.spines[side].set_visible(False)\n",
    "ax.legend(loc='lower right')\n",
    "ax.set_xlabel('Time [s]')\n",
    "fig.tight_layout()"
   ]
  },
  {
   "cell_type": "markdown",
   "metadata": {},
   "source": [
    "## Tensorflow"
   ]
  },
  {
   "cell_type": "code",
   "execution_count": null,
   "metadata": {},
   "outputs": [],
   "source": [
    "import tensorflow as tf"
   ]
  },
  {
   "cell_type": "code",
   "execution_count": null,
   "metadata": {},
   "outputs": [],
   "source": [
    "def spectral_pooling_tf(x, dt, max_freq):\n",
    "    srate = 1. / dt\n",
    "    n_samples = x.shape[-1]\n",
    "    xf = tf.signal.rfft(x)\n",
    "    freq = tf.linspace(0., srate / 2., xf.shape[-1])\n",
    "    xf_trunc = xf[freq <= max_freq]\n",
    "    x_sub = tf.signal.irfft(xf_trunc) * (max_freq / srate *  2)\n",
    "    t_sub = tf.linspace(0., dt * n_samples, x_sub.shape[-1])\n",
    "    return t_sub, x_sub"
   ]
  },
  {
   "cell_type": "code",
   "execution_count": null,
   "metadata": {},
   "outputs": [],
   "source": [
    "x_tf = tf.constant(x.astype(np.float32))"
   ]
  },
  {
   "cell_type": "code",
   "execution_count": null,
   "metadata": {},
   "outputs": [],
   "source": [
    "#%%timeit\n",
    "t_pooled_tf, x_pooled_tf = spectral_pooling_tf(x_tf, dt, srate/4)"
   ]
  },
  {
   "cell_type": "code",
   "execution_count": null,
   "metadata": {},
   "outputs": [],
   "source": [
    "fig,ax = plt.subplots(1, 1)\n",
    "ax.plot(t, x, 'k', lw=1, label='Original')\n",
    "ax.plot(t_pooled, x_pooled, 'm', lw=1, label='Scipy')\n",
    "ax.plot(t_pooled_r, x_pooled_r, 'g', lw=2, label='Scipy (R)')\n",
    "ax.plot(t_pooled_tf, x_pooled_tf, 'b--', lw=1, label='TF')\n",
    "for side in 'right','top':\n",
    "    ax.spines[side].set_visible(False)\n",
    "ax.legend(loc='lower right')\n",
    "ax.set_xlabel('Time [s]')\n",
    "fig.tight_layout()"
   ]
  }
 ],
 "metadata": {
  "kernelspec": {
   "display_name": "Python 3",
   "language": "python",
   "name": "python3"
  },
  "language_info": {
   "codemirror_mode": {
    "name": "ipython",
    "version": 3
   },
   "file_extension": ".py",
   "mimetype": "text/x-python",
   "name": "python",
   "nbconvert_exporter": "python",
   "pygments_lexer": "ipython3",
   "version": "3.7.3"
  }
 },
 "nbformat": 4,
 "nbformat_minor": 4
}
