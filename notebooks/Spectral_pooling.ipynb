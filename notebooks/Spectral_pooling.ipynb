{
 "cells": [
  {
   "cell_type": "code",
   "execution_count": null,
   "metadata": {},
   "outputs": [],
   "source": [
    "import numpy as np\n",
    "from scipy.fft import fft, ifft, fftfreq\n",
    "import matplotlib.pyplot as plt\n",
    "%matplotlib notebook"
   ]
  },
  {
   "cell_type": "code",
   "execution_count": null,
   "metadata": {},
   "outputs": [],
   "source": [
    "def spectral_pooling(x, dt, max_freq):\n",
    "    srate = 1 / dt\n",
    "    xf = fft(x)\n",
    "    n_samples = x.size\n",
    "    freq = fftfreq(n_samples, dt)\n",
    "    xf_trunc = xf[np.abs(freq) <= max_freq]\n",
    "    x_sub = ifft(xf_trunc) * (max_freq / srate *  2)\n",
    "    t_sub = np.linspace(0, dt * n_samples, x_sub.size)\n",
    "    return t_sub, np.real(x_sub)"
   ]
  },
  {
   "cell_type": "code",
   "execution_count": null,
   "metadata": {},
   "outputs": [],
   "source": [
    "tend = 20\n",
    "srate = 40\n",
    "dt = 1/srate\n",
    "t = np.r_[0 : tend : dt]\n",
    "F = [0.2, 1, 2, 5, 7]\n",
    "x = np.array([np.cos(2 * np.pi * f * t) for f in F]).sum(axis=0)\n",
    "eta = 1 * np.random.uniform(size=x.shape)\n",
    "x += eta\n",
    "t_pooled, x_pooled = spectral_pooling(x, dt, srate/4)"
   ]
  },
  {
   "cell_type": "code",
   "execution_count": null,
   "metadata": {},
   "outputs": [],
   "source": [
    "fig,ax = plt.subplots(1, 1)\n",
    "ax.plot(t, x, 'k', lw=1, label='Original')\n",
    "ax.plot(t_pooled, x_pooled, 'r', lw=1, label='Downsampled')\n",
    "for side in 'right','top':\n",
    "    ax.spines[side].set_visible(False)\n",
    "ax.legend(loc='lower right')\n",
    "ax.set_xlabel('Time [s]')\n",
    "fig.tight_layout()"
   ]
  }
 ],
 "metadata": {
  "kernelspec": {
   "display_name": "Python 3.9",
   "language": "python",
   "name": "python-3.9"
  },
  "language_info": {
   "codemirror_mode": {
    "name": "ipython",
    "version": 3
   },
   "file_extension": ".py",
   "mimetype": "text/x-python",
   "name": "python",
   "nbconvert_exporter": "python",
   "pygments_lexer": "ipython3",
   "version": "3.9.9"
  }
 },
 "nbformat": 4,
 "nbformat_minor": 4
}
