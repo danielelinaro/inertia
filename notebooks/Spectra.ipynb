{
 "cells": [
  {
   "cell_type": "code",
   "execution_count": null,
   "id": "94b812cb",
   "metadata": {},
   "outputs": [],
   "source": [
    "import os\n",
    "import re\n",
    "import sys\n",
    "import glob\n",
    "import tables\n",
    "import numpy as np\n",
    "from scipy.signal import welch\n",
    "from scipy.fft import fft, fftfreq\n",
    "import matplotlib\n",
    "import matplotlib.pyplot as plt\n",
    "if '..' not in sys.path:\n",
    "    sys.path.append('..')\n",
    "from dlml.data import read_area_values"
   ]
  },
  {
   "cell_type": "code",
   "execution_count": null,
   "id": "fd3473c6",
   "metadata": {},
   "outputs": [],
   "source": [
    "data_folder = os.path.join('..', 'data')\n",
    "network_name = 'IEEE39'\n",
    "network_type = 'converted_from_PowerFactory'\n",
    "stoch_loads = 'all_stoch_loads'\n",
    "sub_folders = 'var_H_area_1'\n",
    "suffix = 'compensator'\n",
    "if suffix == 'compensator':\n",
    "    H_G2, H_G3 = 4.33, 4.47\n",
    "    H_G2, H_G3 = 4.432, 4.559\n",
    "    H = [5, H_G2, H_G3, 3.57, 4.33, 4.35, 3.77, 3.47, 3.45, 4.2]\n",
    "    file_fmt = 'inertia_' + '_'.join(map(lambda s: f'{s:.03f}', H)) + '_*_' + suffix + '.h5'\n",
    "else:\n",
    "    file_fmt = 'inertia_*_' + suffix + '.h5'\n",
    "data_files = sorted(glob.glob(os.path.join(data_folder,\n",
    "                                           network_name,\n",
    "                                           network_type,\n",
    "                                           stoch_loads,\n",
    "                                           sub_folders,\n",
    "                                           file_fmt)))\n",
    "var_name = 'Vd_bus3'\n",
    "gen_areas_map = [['G02','G03','Comp11'],\n",
    "                 ['G04','G05','G06','G07','Comp21'],\n",
    "                 ['G08','G09', 'G10','Comp31'],\n",
    "                 ['G01']]\n",
    "gen_Pnom = {'G01': 10000e6, 'G02': 700e6, 'G03': 800e6, 'G04': 800e6, 'G05': 300e6,\n",
    "            'G06': 800e6, 'G07': 700e6, 'G08': 700e6, 'G09': 1000e6, 'G10': 1000e6,\n",
    "            'Comp11': 100e6, 'Comp21': 100e6, 'Comp31': 100e6}\n",
    "X = []\n",
    "momentum = np.zeros(len(data_files))\n",
    "for i,data_file in enumerate(data_files):\n",
    "    fid = tables.open_file(data_file)\n",
    "    if data_file == data_files[0]:\n",
    "        time = fid.root.time.read()[:-1]\n",
    "    X.append(fid.root[var_name].read()[:, :-1])\n",
    "    fid.close()\n",
    "    H = map(float, re.findall('\\d+.\\d+', data_file))\n",
    "    area_ID = 1\n",
    "    for h,(name,S) in zip(H, gen_Pnom.items()):\n",
    "        if name in gen_areas_map[area_ID - 1]:\n",
    "            momentum[i] += h * S\n",
    "momentum = 2 * momentum * 1e-9 / 60\n",
    "idx = np.argsort(momentum)\n",
    "momentum = momentum[idx]\n",
    "X = [X[i] for i in idx]"
   ]
  },
  {
   "cell_type": "code",
   "execution_count": null,
   "id": "4f5eaef0",
   "metadata": {},
   "outputs": [],
   "source": [
    "N_traces, N_samples = X[0].shape\n",
    "dt = np.diff(time[:2])[0]\n",
    "sampling_rate = 1 / dt\n",
    "minutes = int(N_samples * dt / 60)"
   ]
  },
  {
   "cell_type": "code",
   "execution_count": null,
   "id": "0d8505f2",
   "metadata": {},
   "outputs": [],
   "source": [
    "P, Pm = [], []\n",
    "Xf, Xfm = [], []\n",
    "freq = fftfreq(N_samples, dt)[:N_samples//2]\n",
    "for x in X:\n",
    "    F,p = welch(x, sampling_rate, nperseg=64*minutes)\n",
    "    P.append(p)\n",
    "    Pm.append(p.mean(axis=0))\n",
    "    xf = fft(x)\n",
    "    xf = 2.0 / N_samples * np.abs(xf[:, 0:N_samples//2])\n",
    "    Xf.append(xf)\n",
    "    Xfm.append(xf.mean(axis=0))"
   ]
  },
  {
   "cell_type": "code",
   "execution_count": null,
   "id": "5c16123e",
   "metadata": {},
   "outputs": [],
   "source": [
    "units = r'GW$\\cdot$s$^2$'\n",
    "fig, ax = plt.subplots(2, 1, sharex=True, figsize=(8,6))\n",
    "cmap = plt.get_cmap('viridis', len(Xfm))\n",
    "for i,xfm in enumerate(Xfm):\n",
    "    ax[0].semilogx(freq, 20 * np.log10(xfm), color=cmap(i), lw=1, label=f'{momentum[i]:.4f} {units}')\n",
    "for i,pm in enumerate(Pm):\n",
    "    ax[1].loglog(F, pm, color=cmap(i), lw=1)\n",
    "for a in ax:\n",
    "    for side in 'right','top':\n",
    "        a.spines[side].set_visible(False)\n",
    "    a.grid(which='major', axis='both', lw=0.5, ls=':', color=[.6,.6,.6])\n",
    "ax[0].legend(loc='lower left')\n",
    "ax[0].set_ylim([-30, 25])\n",
    "ax[0].set_ylabel('FFT [dB]')\n",
    "ax[1].set_xlabel('Frequency [Hz]')\n",
    "ax[1].set_ylabel(r'PSD [V$^2$/Hz]')\n",
    "fig.tight_layout()\n",
    "pdf_file = os.path.splitext(file_fmt)[0] + '_' + var_name + '.pdf'\n",
    "fig.savefig(pdf_file.replace('*', '_'))"
   ]
  }
 ],
 "metadata": {
  "kernelspec": {
   "display_name": "Python 3",
   "language": "python",
   "name": "python3"
  },
  "language_info": {
   "codemirror_mode": {
    "name": "ipython",
    "version": 3
   },
   "file_extension": ".py",
   "mimetype": "text/x-python",
   "name": "python",
   "nbconvert_exporter": "python",
   "pygments_lexer": "ipython3",
   "version": "3.7.3"
  }
 },
 "nbformat": 4,
 "nbformat_minor": 5
}
