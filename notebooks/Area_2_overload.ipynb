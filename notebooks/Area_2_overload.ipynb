{
 "cells": [
  {
   "cell_type": "code",
   "execution_count": null,
   "metadata": {},
   "outputs": [],
   "source": [
    "import os\n",
    "import numpy as np\n",
    "import matplotlib.pyplot as plt\n",
    "import pypan.ui as pan\n",
    "%matplotlib inline"
   ]
  },
  {
   "cell_type": "code",
   "execution_count": null,
   "metadata": {},
   "outputs": [],
   "source": [
    "netlist = '../pan/two-area_overload.pan'\n",
    "output_dir = os.path.splitext(os.path.split(netlist)[1])[0] + '.raw/'\n",
    "ok,libs = pan.load_netlist(netlist)"
   ]
  },
  {
   "cell_type": "code",
   "execution_count": null,
   "metadata": {},
   "outputs": [],
   "source": [
    "LAMBDA = np.r_[0 : 2 : 0.01]\n",
    "N = len(LAMBDA)\n",
    "poles = []\n",
    "for i,lam in enumerate(LAMBDA):\n",
    "    pan.alter('Al', 'LAMBDA', lam, libs, invalidate=1)\n",
    "    pan.DC(f'Dc{i+1}', libs=libs, nettype=1, print='yes', printnodes='yes',\n",
    "           ireltol=1e-3, vreltol=1e-3)\n",
    "    pi = pan.PZ(f'Pz{i+1}', mem_vars=['poles'], libs=libs, nettype=1)\n",
    "    poles.append(np.sort(pi.squeeze()))\n",
    "poles = np.array(poles)"
   ]
  },
  {
   "cell_type": "code",
   "execution_count": null,
   "metadata": {},
   "outputs": [],
   "source": [
    "fig,ax = plt.subplots(1, 1, figsize=(6,3))\n",
    "for i,l in enumerate(LAMBDA):\n",
    "    col = 'r' if np.real(poles[i][-1]) > 1e-6 else 'g'\n",
    "    mark = 'o' if np.isreal(poles[i][-1]) else 's'\n",
    "    ax.plot(l, np.real(poles[i][-1]), col + mark, markerfacecolor='w', markersize=5, markeredgewidth=2)\n",
    "for side in 'right','top':\n",
    "    ax.spines[side].set_visible(False)\n",
    "ax.set_yticks(np.r_[0:.32:.1])\n",
    "ax.set_xticks(np.r_[1.25:1.55:.025])\n",
    "ax.set_xlabel(r'$\\lambda$')\n",
    "ax.set_ylabel(r'$\\mathrm{Re}(\\mathrm{eig})_{max}$ [rad/s]')\n",
    "ax.set_xlim([1.25, 1.50])\n",
    "ax.set_ylim([-0.02, 0.31])\n",
    "fig.tight_layout()\n",
    "for ext in 'pdf','png':\n",
    "    fig.savefig(f'area_2_overload.{ext}')"
   ]
  }
 ],
 "metadata": {
  "kernelspec": {
   "display_name": "Python 3",
   "language": "python",
   "name": "python3"
  },
  "language_info": {
   "codemirror_mode": {
    "name": "ipython",
    "version": 3
   },
   "file_extension": ".py",
   "mimetype": "text/x-python",
   "name": "python",
   "nbconvert_exporter": "python",
   "pygments_lexer": "ipython3",
   "version": "3.7.3"
  }
 },
 "nbformat": 4,
 "nbformat_minor": 4
}
