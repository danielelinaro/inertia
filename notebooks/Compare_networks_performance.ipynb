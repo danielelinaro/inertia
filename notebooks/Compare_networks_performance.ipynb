{
 "cells": [
  {
   "cell_type": "code",
   "execution_count": null,
   "metadata": {},
   "outputs": [],
   "source": [
    "import os\n",
    "import sys\n",
    "import glob\n",
    "import pickle\n",
    "import numpy as np\n",
    "import matplotlib.pyplot as plt\n",
    "import tensorflow as tf\n",
    "from tensorflow import keras\n",
    "\n",
    "from comet_ml.api import API, APIExperiment\n",
    "from comet_ml.query import Tag\n",
    "\n",
    "if '..' not in sys.path:\n",
    "    sys.path.append('..')\n",
    "from deep_utils import *"
   ]
  },
  {
   "cell_type": "code",
   "execution_count": null,
   "metadata": {},
   "outputs": [],
   "source": [
    "api = API(api_key = os.environ['COMET_ML_API_KEY'])\n",
    "workspace = 'danielelinaro'\n",
    "project_name = 'inertia'\n",
    "query = Tag('G1') & Tag('D=2') & Tag('DZA=0.036') & Tag('1D_pipeline')\n",
    "experiments = api.query(workspace, project_name, query, archived=False)\n",
    "data = {}\n",
    "for experiment in experiments:\n",
    "    data[experiment.id] = {}\n",
    "    print(f'Downloading data for experiment ID {experiment.id}.')\n",
    "    data[experiment.id]['metrics'] = experiment.get_metrics()\n",
    "    data[experiment.id]['tags'] = experiment.get_tags()"
   ]
  },
  {
   "cell_type": "code",
   "execution_count": null,
   "metadata": {},
   "outputs": [],
   "source": [
    "if len(data) == 3:\n",
    "    rows,cols = 1,3\n",
    "elif len(data) == 4:\n",
    "    rows,cols = 2,2\n",
    "fig,ax = plt.subplots(rows, cols, sharex=True, sharey=True, figsize=(cols*4.5, rows*4), squeeze=False)\n",
    "for i,experiment_id in enumerate(data):\n",
    "    r = i // cols\n",
    "    c = i % cols\n",
    "    activation_loc = [tag for tag in data[experiment_id]['tags'] if 'ReLU' in tag][0]\n",
    "    loss = np.array([float(m['metricValue']) for m in data[experiment_id]['metrics'] if m['metricName'] == 'loss'])\n",
    "    val_loss = np.array([float(m['metricValue']) for m in data[experiment_id]['metrics'] if m['metricName'] == 'val_loss'])\n",
    "    mape = [float(m['metricValue']) for m in data[experiment_id]['metrics'] if m['metricName'] == 'mape_prediction'][0]\n",
    "    ax[r,c].semilogy(loss, 'k', lw=1, label='Training loss')\n",
    "    ax[r,c].semilogy(val_loss, 'r', lw=1, label='Validation loss')\n",
    "    if i == len(data) - 1:\n",
    "        ax[r,c].legend(loc='upper right')\n",
    "    ax[r,c].set_xlabel('Epoch')\n",
    "    if i == 0:\n",
    "        ax[r,c].set_ylabel('Loss')\n",
    "    n_epochs = len(loss)\n",
    "    ax[r,c].text(n_epochs, 0.15, f'Min loss = {loss.min():.3f}', horizontalalignment='right')\n",
    "    ax[r,c].text(n_epochs, 0.115, f'Min val_loss = {val_loss.min():.3f}', horizontalalignment='right')\n",
    "    ax[r,c].text(n_epochs, 0.08, f'MAPE = {mape:.2f}%', horizontalalignment='right')\n",
    "    ax[r,c].set_title(activation_loc.replace('_', ' '));"
   ]
  }
 ],
 "metadata": {
  "kernelspec": {
   "display_name": "Python 3",
   "language": "python",
   "name": "python3"
  },
  "language_info": {
   "codemirror_mode": {
    "name": "ipython",
    "version": 3
   },
   "file_extension": ".py",
   "mimetype": "text/x-python",
   "name": "python",
   "nbconvert_exporter": "python",
   "pygments_lexer": "ipython3",
   "version": "3.6.9"
  }
 },
 "nbformat": 4,
 "nbformat_minor": 4
}
