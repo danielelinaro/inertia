{
 "cells": [
  {
   "cell_type": "code",
   "execution_count": null,
   "id": "08abd16c",
   "metadata": {},
   "outputs": [],
   "source": [
    "import os\n",
    "import tables\n",
    "import numpy as np\n",
    "import matplotlib.pyplot as plt\n",
    "from scipy.fft import fft, fftfreq"
   ]
  },
  {
   "cell_type": "code",
   "execution_count": null,
   "id": "ce9c04a5",
   "metadata": {},
   "outputs": [],
   "source": [
    "data_dir = '../data/IEEE39/converted_from_PowerFactory/all_stoch_loads/var_H_area_1_comp_grid'\n",
    "H = [5.0, 4.33, 4.47, 3.57, 4.33, 4.35, 3.77, 3.47, 3.45, 4.2, 0.1, 0.1, 0.1]\n",
    "P_frac = [None, 0.1, 0.3, 0.5, 0.7, 0.8]\n",
    "data_files = []\n",
    "for P in P_frac:\n",
    "    fname = 'ieee39_PF_stoch_loads_compensators_'\n",
    "    if P is not None:\n",
    "        fname += 'vsg_Pfrac={:.1f}_'.format(P)\n",
    "    fname += '_'.join(list(map(lambda s: f'{s:.03f}', H))) + '.h5'\n",
    "    data_files.append(fname)\n",
    "N_files = len(data_files)"
   ]
  },
  {
   "cell_type": "code",
   "execution_count": null,
   "id": "cb74f753",
   "metadata": {},
   "outputs": [],
   "source": [
    "fids = [tables.open_file(os.path.join(data_dir, f)) for f in data_files]\n",
    "buses = 3, 14, 17, 39\n",
    "t = [fid.root.time.read() for fid in fids]\n",
    "Vd = {bus: [fid.root[f'Vd_bus{bus}'].read() for fid in fids] for bus in buses}\n",
    "for fid in fids:\n",
    "    fid.close()\n",
    "for bus in buses:\n",
    "    for i in range(1,N_files):\n",
    "        Vd[bus][i][-1] = Vd[bus][i][:-1].mean()"
   ]
  },
  {
   "cell_type": "code",
   "execution_count": null,
   "id": "7095c81a",
   "metadata": {},
   "outputs": [],
   "source": [
    "dt = np.diff(t[0][:2])[0]\n",
    "dur = 60\n",
    "N_samples = int(60 / dt)\n",
    "N_trials = t[0].size // N_samples\n",
    "Xf = {}\n",
    "for bus in buses:\n",
    "    Xf[bus] = []\n",
    "    for i in range(N_files):\n",
    "        X = np.reshape(Vd[bus][i][:N_samples*N_trials], (N_trials,-1))\n",
    "        tmp = fft(X)\n",
    "        Xf[bus].append(2.0 / N_samples * np.abs(tmp[:, :N_samples//2]))\n",
    "F = fftfreq(N_samples, dt)[:N_samples//2]"
   ]
  },
  {
   "cell_type": "code",
   "execution_count": null,
   "id": "741c8931",
   "metadata": {},
   "outputs": [],
   "source": [
    "cmap = plt.get_cmap('viridis', N_files)\n",
    "bus = 3\n",
    "fig,ax = plt.subplots(2, 1)\n",
    "lw = 1\n",
    "for i,P in enumerate(P_frac):\n",
    "    if P is None:\n",
    "        ax[0].plot(t[i]/60, Vd[bus][i]*1e-3, color='k', lw=lw/2)\n",
    "        ax[1].semilogx(F, 20*np.log10(Xf[bus][i].mean(axis=0)), 'k', lw=lw, label='No VSG')\n",
    "    else:\n",
    "        ax[0].plot(t[i]/60, Vd[bus][i]*1e-3, color=cmap(i), lw=lw/2)\n",
    "        ax[1].semilogx(F, 20*np.log10(Xf[bus][i].mean(axis=0)), color=cmap(i), lw=lw, label=f'P_frac={P}')\n",
    "ax[0].set_xlabel('Time [min]')\n",
    "ax[0].set_ylabel(f'Vd,{bus} [kV]')\n",
    "ax[1].set_xlabel('Frequency [Hz]')\n",
    "ax[1].set_ylabel(f'PSD [dB]')\n",
    "ax[1].set_xlim([0.2, 20])\n",
    "ax[1].set_ylim([-20,30])\n",
    "ax[1].legend(loc='upper right', frameon=False, fontsize=8)\n",
    "for a in ax:\n",
    "    a.grid(which='major', axis='y', lw=0.5, color=[.6,.6,.6], ls=':')\n",
    "    for side in 'right','top':\n",
    "        a.spines[side].set_visible(False)\n",
    "fig.tight_layout()"
   ]
  }
 ],
 "metadata": {
  "kernelspec": {
   "display_name": "Python 3",
   "language": "python",
   "name": "python3"
  },
  "language_info": {
   "codemirror_mode": {
    "name": "ipython",
    "version": 3
   },
   "file_extension": ".py",
   "mimetype": "text/x-python",
   "name": "python",
   "nbconvert_exporter": "python",
   "pygments_lexer": "ipython3",
   "version": "3.9.9"
  }
 },
 "nbformat": 4,
 "nbformat_minor": 5
}
