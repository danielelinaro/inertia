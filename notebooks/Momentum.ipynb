{
 "cells": [
  {
   "cell_type": "code",
   "execution_count": null,
   "metadata": {},
   "outputs": [],
   "source": [
    "import numpy as np\n",
    "import matplotlib.pyplot as plt"
   ]
  },
  {
   "cell_type": "code",
   "execution_count": null,
   "metadata": {},
   "outputs": [],
   "source": [
    "momentum = lambda H, S, fn: 2 * H@S / fn * 1e-3"
   ]
  },
  {
   "cell_type": "code",
   "execution_count": null,
   "metadata": {},
   "outputs": [],
   "source": [
    "N = 11, 11\n",
    "h_G1_0, h_G2_0 = 4.33, 4.47\n",
    "h_G1 = h_G1_0 + np.linspace(-1, 1, N[0])\n",
    "h_G2 = h_G2_0 + np.linspace(-1, 1, N[1])\n",
    "H_G1, H_G2 = np.meshgrid(*[h_G1, h_G2])"
   ]
  },
  {
   "cell_type": "code",
   "execution_count": null,
   "metadata": {},
   "outputs": [],
   "source": [
    "M = np.zeros(N)\n",
    "S = np.array([700, 800])\n",
    "fn = 60\n",
    "for i in range(N[0]):\n",
    "    for j in range(N[1]):\n",
    "        H = np.array([H_G1[i,j], H_G2[i,j]])\n",
    "        M[i,j] = momentum(H, S, fn)"
   ]
  },
  {
   "cell_type": "code",
   "execution_count": null,
   "metadata": {},
   "outputs": [],
   "source": [
    "cmap = plt.get_cmap('gray')\n",
    "fig,ax = plt.subplots(1, 1, figsize=(6.5,5))\n",
    "cont = ax.contourf(H_G1, H_G2, M, levels=100, cmap=cmap)\n",
    "cbar = plt.colorbar(cont, ax=ax)\n",
    "magenta = [1,0,1]\n",
    "green = [0,1,0]\n",
    "yellow = [1,1,0]\n",
    "blue = [0,.5,1]\n",
    "red = [1,.333,.333]\n",
    "# plt.scatter(H_G1, H_G2, s=20, c='w', marker='s')\n",
    "plt.scatter(H_G1[::2, ::2], H_G2[::2, ::2], s=40, color=magenta, marker='o')\n",
    "plt.scatter([H_G1[i,i] for i in range(0, N[0], 2)],\n",
    "            [H_G2[i,i] for i in range(0, N[1], 2)],\n",
    "            s=80, marker='o', edgecolors=green, facecolors='none', lw=2)\n",
    "plt.scatter(H_G1[:2,:2], H_G2[:2,:2], s=50, marker='o', edgecolors=blue, facecolors='none', lw=2)\n",
    "plt.scatter(H_G1[-2:,-2:], H_G2[-2:,-2:], s=50, marker='o', edgecolors=blue, facecolors='none', lw=2)\n",
    "ax.plot(H_G1[:2,:2].mean(), H_G2[:2,:2].mean(), 'x', color=red, markersize=8, markeredgewidth=3)\n",
    "ax.plot(H_G1[-2:,-2:].mean(), H_G2[-2:,-2:].mean(), 'x', color=red, markersize=8, markeredgewidth=3)\n",
    "ax.set_xlabel(r'$H_{G_1}$ [s]')\n",
    "ax.set_ylabel(r'$H_{G_2}$ [s]')\n",
    "ax.axis('equal')\n",
    "for side in 'right','top':\n",
    "    ax.spines[side].set_visible(False)\n",
    "cbar.set_label(r'Momentum [GW$\\cdot$s]')\n",
    "fig.tight_layout()"
   ]
  },
  {
   "cell_type": "code",
   "execution_count": null,
   "metadata": {},
   "outputs": [],
   "source": [
    "M[:2, :2]"
   ]
  },
  {
   "cell_type": "code",
   "execution_count": null,
   "metadata": {},
   "outputs": [],
   "source": [
    "M[:2, :2].mean()"
   ]
  },
  {
   "cell_type": "code",
   "execution_count": null,
   "metadata": {},
   "outputs": [],
   "source": [
    "momentum(np.array([h_G1[:2].mean(), h_G2[:2].mean()]), S, fn)"
   ]
  },
  {
   "cell_type": "code",
   "execution_count": null,
   "metadata": {},
   "outputs": [],
   "source": [
    "M[-2:, -2:].mean()"
   ]
  },
  {
   "cell_type": "code",
   "execution_count": null,
   "metadata": {},
   "outputs": [],
   "source": [
    "momentum(np.array([h_G1[-2:].mean(), h_G2[-2:].mean()]), S, fn)"
   ]
  }
 ],
 "metadata": {
  "kernelspec": {
   "display_name": "Python 3.9",
   "language": "python",
   "name": "python-3.9"
  },
  "language_info": {
   "codemirror_mode": {
    "name": "ipython",
    "version": 3
   },
   "file_extension": ".py",
   "mimetype": "text/x-python",
   "name": "python",
   "nbconvert_exporter": "python",
   "pygments_lexer": "ipython3",
   "version": "3.9.9"
  }
 },
 "nbformat": 4,
 "nbformat_minor": 4
}
