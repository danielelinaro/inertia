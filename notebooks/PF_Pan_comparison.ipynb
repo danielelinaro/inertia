{
 "cells": [
  {
   "cell_type": "code",
   "execution_count": null,
   "metadata": {},
   "outputs": [],
   "source": [
    "import tables\n",
    "import numpy as np\n",
    "import matplotlib.pyplot as plt\n",
    "from scipy.stats import pearsonr\n",
    "from scipy.fft import fft, fftfreq\n",
    "from scipy.signal import welch\n",
    "%matplotlib inline\n",
    "\n",
    "cmap = {'PF': 'k', 'pan': 'r'}\n",
    "width, height = 5, 2\n",
    "method = 'PSD'"
   ]
  },
  {
   "cell_type": "code",
   "execution_count": null,
   "metadata": {},
   "outputs": [],
   "source": [
    "files = {'PF': '../IEEE39_PowerFactory_5.000_4.330_4.470_3.570_4.330_4.350_3.770_3.470_3.450_4.200.h5',\n",
    "        'pan': '../IEEE39_pan_5.000_4.330_4.470_3.570_4.330_4.350_3.770_3.470_3.450_4.200.h5'}\n",
    "fids = {k: tables.open_file(v) for k,v in files.items()}\n",
    "params = {key: fid.root.parameters.read() for key,fid in fids.items()}\n",
    "time = {key: fid.root.time.read() / 60 for key,fid in fids.items()}\n",
    "stoch_load = {'pan': np.squeeze(fids['pan'].root.OU.read()),\n",
    "              'PF': np.squeeze(fids['PF'].root.noise_bus_3.read())}\n",
    "buses = 3, 14, 17\n",
    "lines = (3, 4), (14, 15), (16, 17), (1, 39)\n",
    "omega = {}\n",
    "Pe, Qe = {}, {}\n",
    "Vd, Vq = {}, {}\n",
    "Id, Iq = {}, {}\n",
    "\n",
    "omega_ref = np.squeeze(fids['pan'].root.omega_ref.read())\n",
    "delta_ref = np.squeeze(fids['PF'].root.delta_ref.read())\n",
    "phi = np.squeeze(fids['PF'].root.phi.read()) / np.pi * 180\n",
    "f_out = np.squeeze(fids['PF'].root.f_out.read())\n",
    "V_exc = np.squeeze(fids['PF'].root.V_exc.read())\n",
    "\n",
    "for key,fid in fids.items():\n",
    "    omega[key] = {}\n",
    "    Pe[key], Qe[key] = {}, {}\n",
    "    Vd[key], Vq[key] = {}, {}\n",
    "    Id[key], Iq[key] = {}, {}\n",
    "    for bus in buses:\n",
    "        omega[key][bus] = np.squeeze(fid.root[f'omegael_bus{bus}'].read())\n",
    "        Vd[key][bus] = np.squeeze(fid.root[f'Vd_bus{bus}'].read())\n",
    "        Vq[key][bus] = np.squeeze(fid.root[f'Vq_bus{bus}'].read())\n",
    "        if key == 'pan':\n",
    "            omega[key][bus] += omega_ref - 1\n",
    "    for bus1,bus2 in lines:\n",
    "        if bus1 not in Pe:\n",
    "            Pe[key][bus1] = {}\n",
    "            Qe[key][bus1] = {}\n",
    "            Id[key][bus1] = {}\n",
    "            Iq[key][bus1] = {}\n",
    "        Pe[key][bus1][bus2] = np.squeeze(fid.root[f'Pe_line_{bus1}_{bus2}'].read())\n",
    "        Qe[key][bus1][bus2] = np.squeeze(fid.root[f'Qe_line_{bus1}_{bus2}'].read())\n",
    "        Id[key][bus1][bus2] = np.squeeze(fid.root[f'Id_line_{bus1}_{bus2}'].read())\n",
    "        Iq[key][bus1][bus2] = np.squeeze(fid.root[f'Iq_line_{bus1}_{bus2}'].read())\n",
    "for fid in fids.values():\n",
    "    fid.close()"
   ]
  },
  {
   "cell_type": "code",
   "execution_count": null,
   "metadata": {},
   "outputs": [],
   "source": [
    "if np.abs(stoch_load['pan'] - stoch_load['PF']).max() < 1e-10:\n",
    "    print('The stochastic loads are the same.')\n",
    "else:\n",
    "    raise Exception('The stochastic loads are not the same.')"
   ]
  },
  {
   "cell_type": "markdown",
   "metadata": {},
   "source": [
    "## Bus angular frequencies"
   ]
  },
  {
   "cell_type": "markdown",
   "metadata": {},
   "source": [
    "### Time series"
   ]
  },
  {
   "cell_type": "code",
   "execution_count": null,
   "metadata": {},
   "outputs": [],
   "source": [
    "coeff = {'PF': 1/params['PF']['F0'][0], 'pan': 1}\n",
    "rows = len(buses) + 1\n",
    "cols = 1\n",
    "fig,ax = plt.subplots(rows, cols, figsize=(cols*width, rows*height), sharex=True)\n",
    "xlim = [0, 60]\n",
    "for i,bus in enumerate(buses):\n",
    "    for key in 'pan','PF':\n",
    "        ax[i].plot(time[key], omega[key][bus] * coeff[key], color=cmap[key], lw=1)\n",
    "    ax[i].set_xlim(xlim)\n",
    "    ax[i].set_ylabel(r'$\\omega_{{{}}}$ [p.u.]'.format(bus))\n",
    "ax[-1].plot(time['PF'], stoch_load['PF'], 'k', lw=1)\n",
    "ax[-1].set_xlabel('Time [min]')\n",
    "ax[-1].set_ylabel(r'$\\Delta$P [MW]')\n",
    "for a in ax:\n",
    "    for side in 'right','top':\n",
    "        a.spines[side].set_visible(False)\n",
    "fig.tight_layout()"
   ]
  },
  {
   "cell_type": "markdown",
   "metadata": {},
   "source": [
    "### Distributions and spectra"
   ]
  },
  {
   "cell_type": "code",
   "execution_count": null,
   "metadata": {},
   "outputs": [],
   "source": [
    "N_samples = time['PF'].size\n",
    "dt = {k: np.diff(v[:2])[0] for k,v in time.items()}\n",
    "Fs = {k: 1/dt[k] for k in dt}\n",
    "freq = {k: fftfreq(N_samples, dt[k])[:N_samples//2] for k in dt}\n",
    "\n",
    "coeff = {'PF': 1/params['PF']['F0'][0], 'pan': 1}\n",
    "rows = len(buses) + 1\n",
    "cols = 2\n",
    "fig,ax = plt.subplots(rows, cols, figsize=(cols*width/2, rows*height))\n",
    "for i,bus in enumerate(buses):\n",
    "    for key in 'pan','PF':\n",
    "        x = omega[key][bus] * coeff[key]\n",
    "        n,edges = np.histogram(x, bins=51, density=True)\n",
    "        ax[i,0].plot(edges[:-1], n, color=cmap[key], lw=1)\n",
    "        if method == 'FFT':\n",
    "            xf = 2.0 / N_samples * np.abs(fft(x)[:N_samples // 2])\n",
    "            ax[i,1].semilogx(freq[key], 20 * np.log10(xf), color=cmap[key], lw=1)\n",
    "        elif method == 'PSD':\n",
    "            f, Pxx = welch(x, Fs[key], nperseg=1024)\n",
    "            ax[i,1].loglog(f, Pxx, color=cmap[key], lw=1)\n",
    "        ax[i,0].set_xlabel('$\\omega_{{{}}}$ [p.u.]'.format(bus))\n",
    "        ax[i,1].set_xlabel('Freq [Hz]')\n",
    "        for side in 'right','top':\n",
    "            for j in range(cols):\n",
    "                ax[i,j].spines[side].set_visible(False)\n",
    "x = stoch_load['PF']\n",
    "n,edges = np.histogram(x, bins=51, density=True)\n",
    "ax[-1,0].plot(edges[:-1], n, color=cmap[key], lw=1)\n",
    "if method == 'FFT':\n",
    "    xf = 2.0 / N_samples * np.abs(fft(x)[:N_samples // 2])\n",
    "    ax[-1,1].semilogx(freq[key], 20 * np.log10(xf), color=cmap[key], lw=1)\n",
    "elif method == 'PSD':\n",
    "    f, Pxx = welch(x, Fs[key], nperseg=1024)\n",
    "    ax[-1,1].loglog(f, Pxx, color=cmap[key], lw=1)\n",
    "for side in 'right','top':\n",
    "    for j in range(cols):\n",
    "        ax[-1,j].spines[side].set_visible(False)\n",
    "ax[-1,0].set_xlabel(r'$\\Delta$P [MW]')\n",
    "ax[-1,1].set_xlabel('Freq [Hz]')\n",
    "for a in ax:\n",
    "    a[0].set_ylabel('PDF')\n",
    "    a[1].set_ylabel(method)\n",
    "fig.tight_layout()"
   ]
  },
  {
   "cell_type": "markdown",
   "metadata": {},
   "source": [
    "### Correlation with the stochastic load time series"
   ]
  },
  {
   "cell_type": "code",
   "execution_count": null,
   "metadata": {},
   "outputs": [],
   "source": [
    "coeff = {'PF': 1/params['PF']['F0'][0], 'pan': 1}\n",
    "bus = 3\n",
    "y = stoch_load['PF']\n",
    "fig,ax = plt.subplots(1, 2, figsize=(8,4), sharex=True, sharey=True)\n",
    "for a,sim in zip(ax, ('PF','pan')):\n",
    "    x = omega[sim][bus] * coeff[sim]\n",
    "    r, _ = pearsonr(x, y)\n",
    "    a.plot(x, y, cmap[sim] + '.', markersize=1)\n",
    "    dx = x.max() - x.min()\n",
    "    dy = y.max() - y.min()\n",
    "    y_pos = y.max() - dy/10 if r > 0 else y.min() + dy/10\n",
    "    a.text(x.min() + dx/50, y_pos, r'$r^2 = {:.4f}$'.format(r**2))\n",
    "    for side in 'right','top':\n",
    "        a.spines[side].set_visible(False)\n",
    "    a.set_title(sim if sim == 'PF' else sim.capitalize())\n",
    "    a.set_xlabel(r'$\\omega_{{{}}}$'.format(bus))\n",
    "ax[0].set_ylabel(r'$\\Delta$P [MW]')\n",
    "fig.tight_layout()"
   ]
  },
  {
   "cell_type": "markdown",
   "metadata": {},
   "source": [
    "### Time series correlation between Pan and PowerFactory"
   ]
  },
  {
   "cell_type": "code",
   "execution_count": null,
   "metadata": {},
   "outputs": [],
   "source": [
    "coeff = {'PF': 1/params['PF']['F0'][0], 'pan': 1}\n",
    "rows = len(buses)\n",
    "cols = 1\n",
    "fig,ax = plt.subplots(rows, cols, figsize=(cols*width, rows*height))\n",
    "for i,bus in enumerate(buses):\n",
    "    x, y = omega['pan'][bus] * coeff['pan'], omega['PF'][bus] * coeff['PF']\n",
    "    r, p = pearsonr(x, y)\n",
    "    ax[i].plot(x, y, 'k.', markersize=1)\n",
    "    dx = x.max() - x.min()\n",
    "    dy = y.max() - y.min()\n",
    "    y_pos = y.max() - dy/10 if r > 0 else y.min() + dy/10\n",
    "    ax[i].text(x.min() + dx/50, y_pos, r'$r^2 = {:.4f}$'.format(r**2))\n",
    "    for side in 'right', 'top':\n",
    "        ax[i].spines[side].set_visible(False)\n",
    "    ax[i].set_title('Bus {}'.format(bus))\n",
    "for a in ax:\n",
    "    a.set_ylabel('PowerFactory')\n",
    "ax[-1].set_xlabel('Pan')\n",
    "fig.tight_layout()"
   ]
  },
  {
   "cell_type": "markdown",
   "metadata": {},
   "source": [
    "## Active and reactive powers"
   ]
  },
  {
   "cell_type": "markdown",
   "metadata": {},
   "source": [
    "### Time series"
   ]
  },
  {
   "cell_type": "code",
   "execution_count": null,
   "metadata": {},
   "outputs": [],
   "source": [
    "coeff = {'PF': 1, 'pan': 1e-6}\n",
    "rows = len(lines)\n",
    "cols = 2\n",
    "fig,ax = plt.subplots(rows, cols, figsize=(cols*width, rows*height))\n",
    "for i,(bus1,bus2) in enumerate(lines):\n",
    "    for key in 'pan','PF':\n",
    "        ax[i,0].plot(time[key], np.abs(Pe[key][bus1][bus2]) * coeff[key], color=cmap[key], lw=1)\n",
    "        ax[i,1].plot(time[key], np.abs(Qe[key][bus1][bus2]) * coeff[key], color=cmap[key], lw=1)\n",
    "        for side in 'right','top':\n",
    "            ax[i,0].spines[side].set_visible(False)\n",
    "            ax[i,1].spines[side].set_visible(False)\n",
    "        ax[i,0].set_ylabel('Pe$_{{{}-{}}}$ [MW]'.format(bus1, bus2))\n",
    "        ax[i,1].set_ylabel('Qe$_{{{}-{}}}$ [MVAR]'.format(bus1, bus2))\n",
    "for i in range(2):\n",
    "    ax[-1,i].set_xlabel('Time [min]')\n",
    "fig.tight_layout()"
   ]
  },
  {
   "cell_type": "markdown",
   "metadata": {},
   "source": [
    "### Distributions and spectra"
   ]
  },
  {
   "cell_type": "code",
   "execution_count": null,
   "metadata": {},
   "outputs": [],
   "source": [
    "N_samples = time['PF'].size\n",
    "dt = {k: np.diff(v[:2])[0] for k,v in time.items()}\n",
    "Fs = {k: 1/dt[k] for k in dt}\n",
    "freq = {k: fftfreq(N_samples, dt[k])[:N_samples//2] for k in dt}\n",
    "\n",
    "coeff = {'PF': 1, 'pan': 1e-6}\n",
    "rows = len(lines)\n",
    "cols = 4\n",
    "fig,ax = plt.subplots(rows, cols, figsize=(cols*width/2, rows*height))\n",
    "for i,(bus1,bus2) in enumerate(lines):\n",
    "    for key in 'pan','PF':\n",
    "        x = np.abs(Pe[key][bus1][bus2]) * coeff[key]\n",
    "        n,edges = np.histogram(x, bins=51, density=True)\n",
    "        ax[i,0].plot(edges[:-1], n, color=cmap[key], lw=1)\n",
    "        if method == 'FFT':\n",
    "            xf = 2.0 / N_samples * np.abs(fft(x)[:N_samples // 2])\n",
    "            ax[i,1].loglog(freq[key], 20 * np.log10(xf), color=cmap[key], lw=1)\n",
    "        elif method == 'PSD':\n",
    "            f, Pxx = welch(x, Fs[key], nperseg=1024)\n",
    "            ax[i,1].loglog(f, Pxx, color=cmap[key], lw=1)\n",
    "        x = np.abs(Qe[key][bus1][bus2]) * coeff[key]\n",
    "        n,edges = np.histogram(x, bins=51, density=True)\n",
    "        ax[i,2].plot(edges[:-1], n, color=cmap[key], lw=1)\n",
    "        if method == 'FFT':\n",
    "            xf = 2.0 / N_samples * np.abs(fft(x)[:N_samples // 2])\n",
    "            ax[i,3].loglog(freq[key], 20 * np.log10(xf), color=cmap[key], lw=1)\n",
    "        elif method == 'PSD':\n",
    "            f, Pxx = welch(x, Fs[key], nperseg=1024)\n",
    "            ax[i,3].loglog(f, Pxx, color=cmap[key], lw=1)\n",
    "        for side in 'right','top':\n",
    "            for j in range(cols):\n",
    "                ax[i,j].spines[side].set_visible(False)\n",
    "        ax[i,0].set_xlabel('Pe$_{{{}-{}}}$ [MW]'.format(bus1, bus2))\n",
    "        ax[i,1].set_xlabel('Freq [Hz]')\n",
    "        ax[i,2].set_xlabel('Qe$_{{{}-{}}}$ [MVAR]'.format(bus1, bus2))\n",
    "        ax[i,3].set_xlabel('Freq [Hz]')\n",
    "for a in ax:\n",
    "    a[0].set_ylabel('PDF')\n",
    "    a[2].set_ylabel('PDF')\n",
    "    a[1].set_ylabel(method)\n",
    "    a[3].set_ylabel(method)\n",
    "fig.tight_layout()"
   ]
  },
  {
   "cell_type": "markdown",
   "metadata": {},
   "source": [
    "### Time series correlation between Pan and PowerFactory"
   ]
  },
  {
   "cell_type": "code",
   "execution_count": null,
   "metadata": {},
   "outputs": [],
   "source": [
    "coeff = {'PF': 1, 'pan': 1e-6}\n",
    "rows = len(lines)\n",
    "cols = 2\n",
    "fig,ax = plt.subplots(rows, cols, figsize=(cols*width, rows*height))\n",
    "for i,(bus1,bus2) in enumerate(lines):\n",
    "    for j,var in enumerate((Pe, Qe)):\n",
    "        x, y = var['pan'][bus1][bus2] * coeff['pan'], var['PF'][bus1][bus2] * coeff['PF']\n",
    "        r, p = pearsonr(x, y)\n",
    "        ax[i,j].plot(x, y, 'k.', markersize=1)\n",
    "        dx = x.max() - x.min()\n",
    "        dy = y.max() - y.min()\n",
    "        y_pos = y.max() - dy/10 if r > 0 else y.min() + dy/10\n",
    "        ax[i,j].text(x.min() + dx/50, y_pos, r'$r^2 = {:.4f}$'.format(r**2))\n",
    "        for side in 'right', 'top':\n",
    "            ax[i,j].spines[side].set_visible(False)\n",
    "        ax[i,j].set_title('Line {} - {}'.format(bus1, bus2))\n",
    "for a in ax[:,0]:\n",
    "    a.set_ylabel('PowerFactory')\n",
    "for a in ax[-1,:]:\n",
    "    a.set_xlabel('Pan')\n",
    "fig.tight_layout()"
   ]
  },
  {
   "cell_type": "markdown",
   "metadata": {},
   "source": [
    "## Bus voltages"
   ]
  },
  {
   "cell_type": "markdown",
   "metadata": {},
   "source": [
    "### Time series of d and q components"
   ]
  },
  {
   "cell_type": "code",
   "execution_count": null,
   "metadata": {},
   "outputs": [],
   "source": [
    "coeff = {'PF': 1, 'pan': 1e-3}\n",
    "rows = len(buses)\n",
    "cols = 2\n",
    "fig,ax = plt.subplots(rows, cols, figsize=(cols*width, rows*height), sharex=True)\n",
    "for i,bus in enumerate(buses):\n",
    "    for key in 'pan','PF':\n",
    "        ax[i,0].plot(time[key], np.abs(Vd[key][bus]) * coeff[key], color=cmap[key], lw=1)\n",
    "        ax[i,1].plot(time[key], np.abs(Vq[key][bus]) * coeff[key], color=cmap[key], lw=1)\n",
    "        for side in 'right','top':\n",
    "            ax[i,0].spines[side].set_visible(False)\n",
    "            ax[i,1].spines[side].set_visible(False)\n",
    "        ax[i,0].set_ylabel('Vd$_{{{}}}$ [kV]'.format(bus))\n",
    "        ax[i,1].set_ylabel('Vq$_{{{}}}$ [kV]'.format(bus))\n",
    "for i in range(2):\n",
    "    ax[-1,i].set_xlabel('Time [min]')\n",
    "fig.tight_layout()"
   ]
  },
  {
   "cell_type": "markdown",
   "metadata": {},
   "source": [
    "### Time series of magnitude and phase"
   ]
  },
  {
   "cell_type": "code",
   "execution_count": null,
   "metadata": {},
   "outputs": [],
   "source": [
    "coeff = {'PF': 1, 'pan': 1e-3}\n",
    "rows = len(buses)\n",
    "cols = 2\n",
    "fig,ax = plt.subplots(rows, cols, figsize=(cols*width, rows*height), sharex=True)\n",
    "for i,bus in enumerate(buses):\n",
    "    for key in 'pan','PF':\n",
    "        mag = np.sqrt((Vd[key][bus] * coeff[key]) ** 2 + (Vq[key][bus] * coeff[key]) ** 2)\n",
    "        phi = np.arctan2(Vq[key][bus], Vd[key][bus])\n",
    "        ax[i,0].plot(time[key], mag, color=cmap[key], lw=1)\n",
    "        ax[i,1].plot(time[key], phi, color=cmap[key], lw=1)\n",
    "        for side in 'right','top':\n",
    "            ax[i,0].spines[side].set_visible(False)\n",
    "            ax[i,1].spines[side].set_visible(False)\n",
    "        ax[i,0].set_ylabel(r'V$_{{{}}}$ [kV]'.format(bus))\n",
    "        ax[i,1].set_ylabel(r'Phase V$_{{{}}}$ [rad]'.format(bus))\n",
    "for i in range(2):\n",
    "    ax[-1,i].set_xlabel('Time [min]')\n",
    "# ax[0,0].set_xlim([0,10])\n",
    "fig.tight_layout()"
   ]
  },
  {
   "cell_type": "markdown",
   "metadata": {},
   "source": [
    "### Distributions and spectra"
   ]
  },
  {
   "cell_type": "code",
   "execution_count": null,
   "metadata": {},
   "outputs": [],
   "source": [
    "N_samples = time['PF'].size\n",
    "dt = {k: np.diff(v[:2])[0] for k,v in time.items()}\n",
    "Fs = {k: 1/dt[k] for k in dt}\n",
    "freq = {k: fftfreq(N_samples, dt[k])[:N_samples//2] for k in dt}\n",
    "\n",
    "coeff = {'PF': 1, 'pan': 1e-3}\n",
    "rows = len(buses)\n",
    "cols = 4\n",
    "fig,ax = plt.subplots(rows, cols, figsize=(cols*width/2, rows*height))\n",
    "for i,bus in enumerate(buses):\n",
    "    for key in 'pan','PF':\n",
    "        x = np.abs(Vd[key][bus]) * coeff[key]\n",
    "        n,edges = np.histogram(x, bins=51, density=True)\n",
    "        ax[i,0].plot(edges[:-1], n, color=cmap[key], lw=1)\n",
    "        if method == 'FFT':\n",
    "            xf = 2.0 / N_samples * np.abs(fft(x)[:N_samples // 2])\n",
    "            ax[i,1].loglog(freq[key], 20 * np.log10(xf), color=cmap[key], lw=1)\n",
    "        elif method == 'PSD':\n",
    "            f, Pxx = welch(x, Fs[key], nperseg=1024)\n",
    "            ax[i,1].loglog(f, Pxx, color=cmap[key], lw=1)\n",
    "        x = np.abs(Vq[key][bus]) * coeff[key]\n",
    "        n,edges = np.histogram(x, bins=51, density=True)\n",
    "        ax[i,2].plot(edges[:-1], n, color=cmap[key], lw=1)\n",
    "        if method == 'FFT':\n",
    "            xf = 2.0 / N_samples * np.abs(fft(x)[:N_samples // 2])\n",
    "            ax[i,3].loglog(freq[key], 20 * np.log10(xf), color=cmap[key], lw=1)\n",
    "        elif method == 'PSD':\n",
    "            f, Pxx = welch(x, Fs[key], nperseg=1024)\n",
    "            ax[i,3].loglog(f, Pxx, color=cmap[key], lw=1)\n",
    "        for side in 'right','top':\n",
    "            for j in range(cols):\n",
    "                ax[i,j].spines[side].set_visible(False)\n",
    "        ax[i,0].set_xlabel('Vd$_{{{}}}$ [kV]'.format(bus))\n",
    "        ax[i,1].set_xlabel('Freq [Hz]')\n",
    "        ax[i,2].set_xlabel('Vq$_{{{}}}$ [kV]'.format(bus))\n",
    "        ax[i,3].set_xlabel('Freq [Hz]')\n",
    "for a in ax:\n",
    "    a[0].set_ylabel('PDF')\n",
    "    a[2].set_ylabel('PDF')\n",
    "    a[1].set_ylabel(method)\n",
    "    a[3].set_ylabel(method)\n",
    "fig.tight_layout()"
   ]
  },
  {
   "cell_type": "markdown",
   "metadata": {},
   "source": [
    "### Time series correlation between Pan and PowerFactory"
   ]
  },
  {
   "cell_type": "code",
   "execution_count": null,
   "metadata": {},
   "outputs": [],
   "source": [
    "coeff = {'PF': 1, 'pan': 1e-3}\n",
    "rows = len(buses)\n",
    "cols = 2\n",
    "fig,ax = plt.subplots(rows, cols, figsize=(cols*width, rows*height))\n",
    "for i,bus in enumerate(buses):\n",
    "    for j,var in enumerate((Vd, Vq)):\n",
    "        x, y = var['pan'][bus] * coeff['pan'], var['PF'][bus] * coeff['PF']\n",
    "        r, p = pearsonr(x, y)\n",
    "        ax[i,j].plot(x, y, 'k.', markersize=1)\n",
    "        dx = x.max() - x.min()\n",
    "        dy = y.max() - y.min()\n",
    "        y_pos = y.max() - dy/10 if r > 0 else y.min() + dy/10\n",
    "        ax[i,j].text(x.min() + dx/50, y_pos, r'$r^2 = {:.4f}$'.format(r**2))\n",
    "        for side in 'right', 'top':\n",
    "            ax[i,j].spines[side].set_visible(False)\n",
    "        ax[i,j].set_title('Bus {}'.format(bus))\n",
    "for a in ax[:,0]:\n",
    "    a.set_ylabel('PowerFactory')\n",
    "for a in ax[-1,:]:\n",
    "    a.set_xlabel('Pan')\n",
    "fig.tight_layout()"
   ]
  },
  {
   "cell_type": "markdown",
   "metadata": {},
   "source": [
    "## Line currents"
   ]
  },
  {
   "cell_type": "markdown",
   "metadata": {},
   "source": [
    "### Time series of d and q components"
   ]
  },
  {
   "cell_type": "code",
   "execution_count": null,
   "metadata": {},
   "outputs": [],
   "source": [
    "coeff = {'PF': 1e3, 'pan': 1 / np.sqrt(3)}\n",
    "rows = len(lines)\n",
    "cols = 2\n",
    "fig,ax = plt.subplots(rows, cols, figsize=(cols*width, rows*height), sharex=True)\n",
    "for i,(bus1,bus2) in enumerate(lines):\n",
    "    for key in 'pan','PF':\n",
    "        ax[i,0].plot(time[key], Id[key][bus1][bus2] * coeff[key], color=cmap[key], lw=1)\n",
    "        ax[i,1].plot(time[key], Iq[key][bus1][bus2] * coeff[key], color=cmap[key], lw=1)\n",
    "        for side in 'right','top':\n",
    "            ax[i,0].spines[side].set_visible(False)\n",
    "            ax[i,1].spines[side].set_visible(False)\n",
    "        ax[i,0].set_ylabel('Id$_{{{}-{}}}$ [A]'.format(bus1, bus2))\n",
    "        ax[i,1].set_ylabel('Iq$_{{{}-{}}}$ [A]'.format(bus1, bus2))\n",
    "for i in range(2):\n",
    "    ax[-1,i].set_xlabel('Time [min]')\n",
    "fig.tight_layout()"
   ]
  },
  {
   "cell_type": "markdown",
   "metadata": {},
   "source": [
    "### Time series of magnitude and phase"
   ]
  },
  {
   "cell_type": "code",
   "execution_count": null,
   "metadata": {},
   "outputs": [],
   "source": [
    "coeff = {'PF': 1e3, 'pan': 1 / np.sqrt(3)}\n",
    "rows = len(lines)\n",
    "cols = 2\n",
    "fig,ax = plt.subplots(rows, cols, figsize=(cols*width, rows*height), sharex=True)\n",
    "for i,(bus1,bus2) in enumerate(lines):\n",
    "    for key in 'pan','PF':\n",
    "        ire = Id[key][bus1][bus2] * coeff[key]\n",
    "        iim = Iq[key][bus1][bus2] * coeff[key]\n",
    "        mag = np.sqrt(ire ** 2 + iim ** 2)\n",
    "        phi = np.arctan2(iim, ire)\n",
    "        ax[i,0].plot(time[key], mag, color=cmap[key], lw=1)\n",
    "        ax[i,1].plot(time[key], phi, color=cmap[key], lw=1)\n",
    "        for side in 'right','top':\n",
    "            ax[i,0].spines[side].set_visible(False)\n",
    "            ax[i,1].spines[side].set_visible(False)\n",
    "        ax[i,0].set_ylabel(r'I$_{{{}-{}}}$ [A]'.format(bus1, bus2))\n",
    "        ax[i,1].set_ylabel(r'Phase I$_{{{}-{}}}$ [rad]'.format(bus1, bus2))\n",
    "for i in range(2):\n",
    "    ax[-1,i].set_xlabel('Time [min]')\n",
    "# ax[0,0].set_xlim([0,10])\n",
    "fig.tight_layout()"
   ]
  },
  {
   "cell_type": "markdown",
   "metadata": {},
   "source": [
    "### Distributions and spectra"
   ]
  },
  {
   "cell_type": "code",
   "execution_count": null,
   "metadata": {},
   "outputs": [],
   "source": [
    "N_samples = time['PF'].size\n",
    "dt = {k: np.diff(v[:2])[0] for k,v in time.items()}\n",
    "Fs = {k: 1/dt[k] for k in dt}\n",
    "freq = {k: fftfreq(N_samples, dt[k])[:N_samples//2] for k in dt}\n",
    "\n",
    "coeff = {'PF': 1e3, 'pan': 1 / np.sqrt(3)}\n",
    "rows = len(lines)\n",
    "cols = 4\n",
    "fig,ax = plt.subplots(rows, cols, figsize=(cols*width/2, rows*height))\n",
    "for i,(bus1,bus2) in enumerate(lines):\n",
    "    for key in 'pan','PF':\n",
    "        x = np.abs(Id[key][bus1][bus2]) * coeff[key]\n",
    "        n,edges = np.histogram(x, bins=51, density=True)\n",
    "        ax[i,0].plot(edges[:-1], n, color=cmap[key], lw=1)\n",
    "        if method == 'FFT':\n",
    "            xf = 2.0 / N_samples * np.abs(fft(x)[:N_samples // 2])\n",
    "            ax[i,1].loglog(freq[key], 20 * np.log10(xf), color=cmap[key], lw=1)\n",
    "        elif method == 'PSD':\n",
    "            f, Pxx = welch(x, Fs[key], nperseg=1024)\n",
    "            ax[i,1].loglog(f, Pxx, color=cmap[key], lw=1)\n",
    "        x = np.abs(Iq[key][bus1][bus2]) * coeff[key]\n",
    "        n,edges = np.histogram(x, bins=51, density=True)\n",
    "        ax[i,2].plot(edges[:-1], n, color=cmap[key], lw=1)\n",
    "        if method == 'FFT':\n",
    "            xf = 2.0 / N_samples * np.abs(fft(x)[:N_samples // 2])\n",
    "            ax[i,3].loglog(freq[key], 20 * np.log10(xf), color=cmap[key], lw=1)\n",
    "        elif method == 'PSD':\n",
    "            f, Pxx = welch(x, Fs[key], nperseg=1024)\n",
    "            ax[i,3].loglog(f, Pxx, color=cmap[key], lw=1)\n",
    "        for side in 'right','top':\n",
    "            for j in range(cols):\n",
    "                ax[i,j].spines[side].set_visible(False)\n",
    "        ax[i,0].set_xlabel(r'Id$_{{{}-{}}}$ [A]'.format(bus1, bus2))\n",
    "        ax[i,1].set_xlabel('Freq [Hz]')\n",
    "        ax[i,2].set_xlabel('Iq$_{{{}-{}}}$ [kV]'.format(bus1, bus2))\n",
    "        ax[i,3].set_xlabel('Freq [Hz]')\n",
    "for a in ax:\n",
    "    a[0].set_ylabel('PDF')\n",
    "    a[2].set_ylabel('PDF')\n",
    "    a[1].set_ylabel(method)\n",
    "    a[3].set_ylabel(method)\n",
    "fig.tight_layout()"
   ]
  },
  {
   "cell_type": "markdown",
   "metadata": {},
   "source": [
    "### Time series correlation between Pan and PowerFactory"
   ]
  },
  {
   "cell_type": "code",
   "execution_count": null,
   "metadata": {},
   "outputs": [],
   "source": [
    "coeff = {'PF': 1e3, 'pan': 1 / np.sqrt(3)}\n",
    "rows = len(lines)\n",
    "cols = 2\n",
    "fig,ax = plt.subplots(rows, cols, figsize=(cols*width, rows*height))\n",
    "for i,(bus1,bus2) in enumerate(lines):\n",
    "    for j,var in enumerate((Id, Iq)):\n",
    "        x, y = var['pan'][bus1][bus2] * coeff['pan'], var['PF'][bus1][bus2] * coeff['PF']\n",
    "        r, p = pearsonr(x, y)\n",
    "        ax[i,j].plot(x, y, 'k.', markersize=1)\n",
    "        dx = x.max() - x.min()\n",
    "        dy = y.max() - y.min()\n",
    "        y_pos = y.max() - dy/10 if r > 0 else y.min() + dy/10\n",
    "        ax[i,j].text(x.min() + dx/50, y_pos, r'$r^2 = {:.4f}$'.format(r**2))\n",
    "        for side in 'right', 'top':\n",
    "            ax[i,j].spines[side].set_visible(False)\n",
    "        ax[i,j].set_title('Line {}-{}'.format(bus1, bus2))\n",
    "for a in ax[:,0]:\n",
    "    a.set_ylabel('PowerFactory')\n",
    "for a in ax[-1,:]:\n",
    "    a.set_xlabel('Pan')\n",
    "fig.tight_layout()"
   ]
  }
 ],
 "metadata": {
  "kernelspec": {
   "display_name": "Python 3",
   "language": "python",
   "name": "python3"
  },
  "language_info": {
   "codemirror_mode": {
    "name": "ipython",
    "version": 3
   },
   "file_extension": ".py",
   "mimetype": "text/x-python",
   "name": "python",
   "nbconvert_exporter": "python",
   "pygments_lexer": "ipython3",
   "version": "3.7.12"
  }
 },
 "nbformat": 4,
 "nbformat_minor": 4
}
