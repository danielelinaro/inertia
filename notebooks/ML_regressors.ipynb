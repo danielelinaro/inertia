{
 "cells": [
  {
   "cell_type": "code",
   "execution_count": null,
   "id": "d8b9d67d",
   "metadata": {},
   "outputs": [],
   "source": [
    "import numpy as np\n",
    "\n",
    "from sklearn.pipeline import make_pipeline\n",
    "from sklearn.preprocessing import StandardScaler\n",
    "from sklearn.svm import NuSVR\n",
    "from sklearn.tree import DecisionTreeRegressor\n",
    "from sklearn.ensemble import RandomForestRegressor\n",
    "from sklearn.neural_network import MLPRegressor\n",
    "from sklearn.neighbors import KNeighborsRegressor\n",
    "from sklearn.kernel_ridge import KernelRidge\n",
    "from sklearn import tree\n",
    "from sklearn.metrics import mean_absolute_error, mean_absolute_percentage_error\n",
    "import matplotlib.pyplot as plt\n",
    "import seaborn as sns\n",
    "%matplotlib inline"
   ]
  },
  {
   "cell_type": "code",
   "execution_count": null,
   "id": "d85e2a04",
   "metadata": {},
   "outputs": [],
   "source": [
    "n_samples = 500\n",
    "np.random.seed(100)\n",
    "t = np.linspace(0, 2*np.pi, n_samples)\n",
    "u = 1 + 2*np.sin(t)\n",
    "σt,σu = 0.05, 0.1\n",
    "ηt = σt * np.random.randn(n_samples)\n",
    "ηu = σu * np.random.randn(n_samples)"
   ]
  },
  {
   "cell_type": "code",
   "execution_count": null,
   "id": "bbb50cca",
   "metadata": {},
   "outputs": [],
   "source": [
    "MLP_n_hidden = 1000\n",
    "models = {\n",
    "    'SVR': NuSVR(verbose=False),\n",
    "    'decision_tree': DecisionTreeRegressor(max_depth=10),\n",
    "    'random_forest': RandomForestRegressor(n_estimators=10, max_depth=10, bootstrap=True),\n",
    "    'kernel_ridge': KernelRidge(alpha=0.1, kernel='rbf'),\n",
    "    'nearest_neighbors': KNeighborsRegressor(weights='distance',\n",
    "                                             algorithm='brute'),\n",
    "    'MLP': MLPRegressor(hidden_layer_sizes=(MLP_n_hidden,),\n",
    "                        max_iter=10000)\n",
    "}\n",
    "with_scaler = True\n",
    "if with_scaler:\n",
    "    pipe = lambda regr: make_pipeline(StandardScaler(), regr)\n",
    "    regressors = {k: pipe(v) for k,v in models.items()}\n",
    "else:\n",
    "    regressors = models"
   ]
  },
  {
   "cell_type": "code",
   "execution_count": null,
   "id": "b044bbcc",
   "metadata": {},
   "outputs": [],
   "source": [
    "X_train = (t + ηt).reshape(-1,1)\n",
    "y_train = u + ηu\n",
    "X_test = t.reshape(-1,1)\n",
    "y_test, MAE, MAPE = {}, {}, {}\n",
    "for name,regr in regressors.items():\n",
    "    regr.fit(X_train, y_train)\n",
    "    y_test[name] = regr.predict(X_test)\n",
    "    MAE[name] = mean_absolute_error(u, y_test[name].squeeze())\n",
    "    MAPE[name] = mean_absolute_percentage_error(u, y_test[name].squeeze())"
   ]
  },
  {
   "cell_type": "markdown",
   "id": "e8379859",
   "metadata": {},
   "source": [
    "### Number of parameters of each model\n",
    "\n",
    "The number of parameters in a `MLP` with one hidden layer is given by:<br/>\n",
    "`n_inputs * n_hidden + n_hidden + n_outputs * n_hidden + n_outputs`\n",
    "\n",
    "The number of parameters in a `NuSVR` is given by the size of the support vectors.\n",
    "\n",
    "The number of parameters in a `KernelRidgeRegressor` is given by: `n_samples * n_outputs`\n",
    "\n",
    "The number of parameters in a `KNearestNeighborsRegressor` is 0.\n",
    "\n",
    "The number of parameters in a `DecisionTree` is the # of nodes (each leaf has a `value` parameter, while regular nodes have a `threshold` parameter).\n",
    "\n",
    "The number of parameters in a `RandomForest` is the sum of the # of nodes in each tree."
   ]
  },
  {
   "cell_type": "code",
   "execution_count": null,
   "id": "3bb9dabf",
   "metadata": {},
   "outputs": [],
   "source": [
    "n_pars = {}\n",
    "n_pars['MLP'] = np.sum([x.size for x in models['MLP'].coefs_]) + \\\n",
    "    np.sum([x.size for x in models['MLP'].intercepts_])\n",
    "n_pars['SVR'] = models['SVR'].support_vectors_.size\n",
    "n_pars['kernel_ridge'] = models['kernel_ridge'].dual_coef_.size\n",
    "n_pars['nearest_neighbors'] = 0\n",
    "n_pars['decision_tree'] = models['decision_tree'].tree_.node_count\n",
    "n_pars['random_forest'] = np.sum([regr.tree_.node_count for regr in models['random_forest'].estimators_])"
   ]
  },
  {
   "cell_type": "code",
   "execution_count": null,
   "id": "9accfdd8",
   "metadata": {},
   "outputs": [],
   "source": [
    "print('{:20s} {:^6s}  {:^4s}   {:^6s}'.format('Model', 'MAE', 'MAPE', '# pars'))\n",
    "print('=' * 42)\n",
    "for name,num in n_pars.items():\n",
    "    print('{:20s} {:6.4f}  {:4.2f}%  {:6d}'.format(name.replace('_',' '), MAE[name], MAPE[name], num))"
   ]
  },
  {
   "cell_type": "code",
   "execution_count": null,
   "id": "83cab1e1",
   "metadata": {},
   "outputs": [],
   "source": [
    "ms = 5\n",
    "fig,ax = plt.subplots(1, 1, figsize=(7,5))\n",
    "ax.plot(t, u, 'k', lw=3, label='True')\n",
    "ax.plot(X_train, y_train, 'gs', markeredgewidth=0.5, markersize=ms-2,\n",
    "        markerfacecolor='w', label='Training set', alpha=0.75)\n",
    "cmap = plt.get_cmap('tab10', len(models))\n",
    "ds = 10\n",
    "for i,name in enumerate(y_test):\n",
    "    ax.plot(X_test[::ds], y_test[name][::ds], 'o', color=cmap(i),\n",
    "            markersize=ms, markerfacecolor='w', label=name)\n",
    "ax.legend(loc='lower left', frameon=False)\n",
    "ax.set_xlabel('Time (s)')\n",
    "ax.set_ylabel('Y')\n",
    "sns.despine()"
   ]
  },
  {
   "cell_type": "code",
   "execution_count": null,
   "id": "63a2d218",
   "metadata": {},
   "outputs": [],
   "source": [
    "if models['decision_tree'].max_depth <= 5:\n",
    "    fig = plt.figure(figsize=(12,5))\n",
    "    _ = tree.plot_tree(models['decision_tree'])"
   ]
  },
  {
   "cell_type": "code",
   "execution_count": null,
   "id": "a03f20c1",
   "metadata": {},
   "outputs": [],
   "source": [
    "if models['random_forest'].estimators_[0].tree_.max_depth <= 5:\n",
    "    fig = plt.figure(figsize=(12,5))\n",
    "    _ = tree.plot_tree(models['random_forest'].estimators_[0])"
   ]
  },
  {
   "cell_type": "code",
   "execution_count": null,
   "id": "5820fd32",
   "metadata": {},
   "outputs": [],
   "source": [
    "X = np.array([[2]])\n",
    "y1 = np.mean([estim.predict(X)[0] for estim in models['random_forest'].estimators_])\n",
    "y2 = models['random_forest'].predict(X)[0]\n",
    "y1 - y2 < 1e-12"
   ]
  }
 ],
 "metadata": {
  "kernelspec": {
   "display_name": "Python 3 (ipykernel)",
   "language": "python",
   "name": "python3"
  },
  "language_info": {
   "codemirror_mode": {
    "name": "ipython",
    "version": 3
   },
   "file_extension": ".py",
   "mimetype": "text/x-python",
   "name": "python",
   "nbconvert_exporter": "python",
   "pygments_lexer": "ipython3",
   "version": "3.10.8"
  }
 },
 "nbformat": 4,
 "nbformat_minor": 5
}
